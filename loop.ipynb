{
 "cells": [
  {
   "cell_type": "code",
   "execution_count": 1,
   "metadata": {},
   "outputs": [
    {
     "name": "stdout",
     "output_type": "stream",
     "text": [
      "1\n",
      "2\n",
      "3\n",
      "5\n",
      "6\n",
      "7\n",
      "8\n",
      "7\n",
      "9\n",
      "7\n",
      "9\n"
     ]
    }
   ],
   "source": [
    "num = [1,2,3,5,6,7,8,7,9,7,9]\n",
    "for i in num:\n",
    "    print(i)"
   ]
  },
  {
   "cell_type": "code",
   "execution_count": 2,
   "metadata": {},
   "outputs": [
    {
     "name": "stdout",
     "output_type": "stream",
     "text": [
      "[2, 3, 4, 56, 7, 6, 5, 4, 8]\n"
     ]
    }
   ],
   "source": [
    "num = [2,3,4,56,7,6,5,4,8]\n",
    "print(num)"
   ]
  },
  {
   "cell_type": "code",
   "execution_count": 3,
   "metadata": {},
   "outputs": [
    {
     "name": "stdout",
     "output_type": "stream",
     "text": [
      "0\n",
      "1\n",
      "2\n",
      "3\n",
      "4\n",
      "5\n",
      "6\n",
      "7\n",
      "8\n",
      "9\n",
      "10\n"
     ]
    }
   ],
   "source": [
    "for i in range(11):\n",
    "    print(i)"
   ]
  },
  {
   "cell_type": "code",
   "execution_count": 4,
   "metadata": {},
   "outputs": [
    {
     "name": "stdout",
     "output_type": "stream",
     "text": [
      "0\n",
      "1\n",
      "2\n",
      "3\n",
      "4\n",
      "5\n",
      "6\n",
      "7\n",
      "8\n",
      "9\n",
      "10\n",
      "11\n",
      "12\n",
      "13\n",
      "14\n"
     ]
    }
   ],
   "source": [
    "for i in range(15):\n",
    "    print(i)"
   ]
  },
  {
   "cell_type": "code",
   "execution_count": 5,
   "metadata": {},
   "outputs": [
    {
     "name": "stdout",
     "output_type": "stream",
     "text": [
      "22\n",
      "23\n",
      "24\n",
      "25\n",
      "26\n",
      "27\n",
      "28\n",
      "29\n",
      "30\n",
      "31\n",
      "32\n",
      "33\n",
      "34\n",
      "35\n",
      "36\n",
      "37\n",
      "38\n",
      "39\n",
      "40\n",
      "41\n",
      "42\n",
      "43\n",
      "44\n",
      "45\n",
      "46\n",
      "47\n",
      "48\n",
      "49\n"
     ]
    }
   ],
   "source": [
    "for i in range(22,50):\n",
    "    print(i)"
   ]
  },
  {
   "cell_type": "code",
   "execution_count": 6,
   "metadata": {},
   "outputs": [
    {
     "name": "stdout",
     "output_type": "stream",
     "text": [
      "20\n",
      "25\n",
      "30\n",
      "35\n",
      "40\n",
      "45\n"
     ]
    }
   ],
   "source": [
    "for i in range(20,50,5):\n",
    "    print(i)"
   ]
  },
  {
   "cell_type": "code",
   "execution_count": 7,
   "metadata": {},
   "outputs": [
    {
     "name": "stdout",
     "output_type": "stream",
     "text": [
      "10\n",
      "12\n",
      "14\n",
      "16\n",
      "18\n"
     ]
    }
   ],
   "source": [
    "for i in range(10,20,2):\n",
    "    print(i)"
   ]
  },
  {
   "cell_type": "code",
   "execution_count": 8,
   "metadata": {},
   "outputs": [
    {
     "name": "stdout",
     "output_type": "stream",
     "text": [
      "0,1,2,3,4,5,6,7,8,9,10,11,12,13,14,15,16,17,18,19,"
     ]
    }
   ],
   "source": [
    "for i in range(20):\n",
    "    print(i, end=',')"
   ]
  },
  {
   "cell_type": "code",
   "execution_count": 10,
   "metadata": {},
   "outputs": [
    {
     "name": "stdout",
     "output_type": "stream",
     "text": [
      "19\n",
      "h\n",
      "e\n",
      "l\n",
      "l\n",
      "o\n",
      " \n",
      "h\n",
      "o\n",
      "w\n",
      " \n",
      "a\n",
      "r\n",
      "e\n",
      " \n",
      "y\n",
      "o\n",
      "u\n",
      "?\n"
     ]
    }
   ],
   "source": [
    "msg = 'hello, how are you?'\n",
    "print(len(msg))\n",
    "for c in msg:\n",
    "    if c!= ',':\n",
    "        print(c)"
   ]
  },
  {
   "cell_type": "code",
   "execution_count": 11,
   "metadata": {},
   "outputs": [
    {
     "name": "stdout",
     "output_type": "stream",
     "text": [
      "(0, 'h')\n",
      "(1, 'e')\n",
      "(2, 'l')\n",
      "(3, 'l')\n",
      "(4, 'o')\n",
      "(5, ',')\n",
      "(6, ' ')\n",
      "(7, 'h')\n",
      "(8, 'o')\n",
      "(9, 'w')\n",
      "(10, ' ')\n",
      "(11, 'a')\n",
      "(12, 'r')\n",
      "(13, 'e')\n",
      "(14, ' ')\n",
      "(15, 'y')\n",
      "(16, 'o')\n",
      "(17, 'u')\n",
      "(18, '?')\n"
     ]
    }
   ],
   "source": [
    "for i in enumerate(msg):\n",
    "    print(i)"
   ]
  },
  {
   "cell_type": "code",
   "execution_count": 12,
   "metadata": {},
   "outputs": [
    {
     "name": "stdout",
     "output_type": "stream",
     "text": [
      "0 h\n",
      "1 e\n",
      "2 l\n",
      "3 l\n",
      "4 o\n",
      "5 ,\n",
      "6  \n",
      "7 h\n",
      "8 o\n",
      "9 w\n",
      "10  \n",
      "11 a\n",
      "12 r\n",
      "13 e\n",
      "14  \n",
      "15 y\n",
      "16 o\n",
      "17 u\n",
      "18 ?\n"
     ]
    }
   ],
   "source": [
    "for i, c in enumerate(msg):\n",
    "    print(i, c)"
   ]
  },
  {
   "cell_type": "code",
   "execution_count": 15,
   "metadata": {},
   "outputs": [
    {
     "name": "stdout",
     "output_type": "stream",
     "text": [
      "0 s\n",
      "1 h\n",
      "2 r\n",
      "3 i\n",
      "4 r\n",
      "5 a\n",
      "6 m\n",
      "7  \n",
      "8 s\n",
      "9 u\n",
      "10 r\n",
      "11 y\n",
      "12 a\n",
      "13 w\n",
      "14 a\n",
      "15 n\n",
      "16 s\n",
      "17 h\n",
      "18 i\n"
     ]
    }
   ],
   "source": [
    "msg=input()\n",
    "for i,c in enumerate(msg):\n",
    "    print(i,c)"
   ]
  },
  {
   "cell_type": "code",
   "execution_count": 18,
   "metadata": {},
   "outputs": [
    {
     "name": "stdout",
     "output_type": "stream",
     "text": [
      "1 45\n",
      "3 5\n",
      "4 6\n",
      "6 78\n",
      "76 8\n",
      "6 5\n"
     ]
    }
   ],
   "source": [
    "num1 = [1,3,4,6,76,6]\n",
    "num2 = [45,5,6,78,8,5]\n",
    "num3 = [4,56,7,8,9,7]\n",
    "for i,j in zip(num1,num2):\n",
    "    print(i,j)"
   ]
  },
  {
   "cell_type": "code",
   "execution_count": 19,
   "metadata": {},
   "outputs": [
    {
     "name": "stdout",
     "output_type": "stream",
     "text": [
      "4 45 1\n",
      "56 5 3\n",
      "7 6 4\n",
      "8 78 6\n",
      "9 8 76\n",
      "7 5 6\n"
     ]
    }
   ],
   "source": [
    "num1 = [1,3,4,6,76,6]\n",
    "num2 = [45,5,6,78,8,5]\n",
    "num3 = [4,56,7,8,9,7]\n",
    "for i,j,k in zip(num1,num2,num3):\n",
    "    print(k,j,i)"
   ]
  },
  {
   "cell_type": "code",
   "execution_count": 20,
   "metadata": {},
   "outputs": [
    {
     "name": "stdout",
     "output_type": "stream",
     "text": [
      "49 1\n",
      "61 3\n",
      "13 4\n",
      "86 6\n",
      "17 76\n",
      "12 6\n"
     ]
    }
   ],
   "source": [
    "num1 = [1,3,4,6,76,6]\n",
    "num2 = [45,5,6,78,8,5]\n",
    "num3 = [4,56,7,8,9,7]\n",
    "for i,j,k in zip(num1,num2,num3):\n",
    "    print(k+j,i)"
   ]
  },
  {
   "cell_type": "code",
   "execution_count": 22,
   "metadata": {},
   "outputs": [
    {
     "name": "stdout",
     "output_type": "stream",
     "text": [
      "50\n",
      "64\n",
      "92\n",
      "18\n"
     ]
    }
   ],
   "source": [
    "num1 = [1,3,4,6,76,6]\n",
    "num2 = [45,5,6,78,8,5]\n",
    "num3 = [4,56,7,8,9,7]\n",
    "for i,j,k in zip(num1,num2,num3):\n",
    "    if (i+j+k)%2==0:\n",
    "         print(k+j+i)"
   ]
  },
  {
   "cell_type": "code",
   "execution_count": 23,
   "metadata": {},
   "outputs": [
    {
     "name": "stdout",
     "output_type": "stream",
     "text": [
      "25\n",
      "20\n",
      "15\n",
      "10\n"
     ]
    }
   ],
   "source": [
    "for i in range(25,5,-5):\n",
    "    print(i)"
   ]
  },
  {
   "cell_type": "code",
   "execution_count": 25,
   "metadata": {},
   "outputs": [
    {
     "name": "stdout",
     "output_type": "stream",
     "text": [
      "100\n",
      "88\n",
      "76\n",
      "64\n",
      "52\n",
      "40\n",
      "28\n",
      "16\n"
     ]
    }
   ],
   "source": [
    "for i in range(100,10,-12):\n",
    "    print(i)"
   ]
  },
  {
   "cell_type": "code",
   "execution_count": 26,
   "metadata": {},
   "outputs": [
    {
     "name": "stdout",
     "output_type": "stream",
     "text": [
      "-10\n",
      "-9\n",
      "-8\n",
      "-7\n",
      "-6\n",
      "-5\n",
      "-4\n",
      "-3\n",
      "-2\n",
      "-1\n",
      "0\n",
      "1\n",
      "2\n",
      "3\n",
      "4\n",
      "5\n",
      "6\n",
      "7\n",
      "8\n",
      "9\n"
     ]
    }
   ],
   "source": [
    "for i in range(-10,10):\n",
    "    print(i)"
   ]
  },
  {
   "cell_type": "code",
   "execution_count": 27,
   "metadata": {},
   "outputs": [
    {
     "name": "stdout",
     "output_type": "stream",
     "text": [
      "20\n",
      "19\n",
      "18\n",
      "17\n",
      "16\n",
      "15\n",
      "14\n",
      "13\n",
      "12\n",
      "11\n",
      "10\n",
      "9\n",
      "8\n",
      "7\n",
      "6\n",
      "5\n",
      "4\n",
      "3\n"
     ]
    }
   ],
   "source": [
    "for i in range(20,2,-1):\n",
    "    print(i)"
   ]
  },
  {
   "cell_type": "code",
   "execution_count": 30,
   "metadata": {},
   "outputs": [
    {
     "ename": "SyntaxError",
     "evalue": "invalid syntax (922498861.py, line 3)",
     "output_type": "error",
     "traceback": [
      "\u001b[1;36m  Input \u001b[1;32mIn [30]\u001b[1;36m\u001b[0m\n\u001b[1;33m    if n==7,56:\u001b[0m\n\u001b[1;37m           ^\u001b[0m\n\u001b[1;31mSyntaxError\u001b[0m\u001b[1;31m:\u001b[0m invalid syntax\n"
     ]
    }
   ],
   "source": [
    "num = [1,2,3,4,56,7,7,7,88,9]\n",
    "for n in num:\n",
    "    if n==7:\n",
    "        continue\n",
    "    print(n)"
   ]
  },
  {
   "cell_type": "code",
   "execution_count": 31,
   "metadata": {},
   "outputs": [
    {
     "name": "stdout",
     "output_type": "stream",
     "text": [
      "1\n",
      "2\n",
      "3\n",
      "4\n",
      "88\n",
      "9\n"
     ]
    }
   ],
   "source": [
    "num = [1,2,3,4,56,7,7,7,88,9]\n",
    "for n in num:\n",
    "    if n==7 or n==56:\n",
    "        continue\n",
    "    print(n)"
   ]
  },
  {
   "cell_type": "code",
   "execution_count": 35,
   "metadata": {},
   "outputs": [
    {
     "name": "stdout",
     "output_type": "stream",
     "text": [
      "prime value 59\n"
     ]
    }
   ],
   "source": [
    "num = int(input('enter the number:'))\n",
    "for i in range(2,num):\n",
    "    if num % i == 0:\n",
    "        print(\"non prime value\", num)\n",
    "        break\n",
    "else:\n",
    "    print(\"prime value\", num)"
   ]
  },
  {
   "cell_type": "code",
   "execution_count": 36,
   "metadata": {},
   "outputs": [
    {
     "name": "stdout",
     "output_type": "stream",
     "text": [
      "😊\n",
      "😊😊😊\n",
      "😊😊😊😊😊\n",
      "😊😊😊😊😊😊😊\n",
      "😊😊😊😊😊😊😊😊😊\n",
      "😊😊😊😊😊😊😊😊😊😊😊\n",
      "😊😊😊😊😊😊😊😊😊😊😊😊😊\n",
      "😊😊😊😊😊😊😊😊😊😊😊😊😊😊😊\n",
      "😊😊😊😊😊😊😊😊😊😊😊😊😊😊😊😊😊\n",
      "😊😊😊😊😊😊😊😊😊😊😊😊😊😊😊😊😊😊😊\n"
     ]
    }
   ],
   "source": [
    "for i in range(1,20,2):\n",
    "    print(\"😊\"*i)"
   ]
  },
  {
   "cell_type": "code",
   "execution_count": 37,
   "metadata": {},
   "outputs": [
    {
     "name": "stdout",
     "output_type": "stream",
     "text": [
      "2\n",
      "3\n",
      "4\n",
      "5\n",
      "6\n",
      "7\n",
      "8\n",
      "9\n",
      "the code ends\n"
     ]
    }
   ],
   "source": [
    "i = int(input(\"enter the vale:\"))\n",
    "while i<10:\n",
    "    print(i)\n",
    "    i+=1\n",
    "print(\"the code ends\")"
   ]
  },
  {
   "cell_type": "code",
   "execution_count": null,
   "metadata": {},
   "outputs": [],
   "source": []
  }
 ],
 "metadata": {
  "interpreter": {
   "hash": "c28b3cece02bc02c12fa5766a988d4443922620539affbc7b46a193a80d0f256"
  },
  "kernelspec": {
   "display_name": "Python 3.9.12 ('base')",
   "language": "python",
   "name": "python3"
  },
  "language_info": {
   "codemirror_mode": {
    "name": "ipython",
    "version": 3
   },
   "file_extension": ".py",
   "mimetype": "text/x-python",
   "name": "python",
   "nbconvert_exporter": "python",
   "pygments_lexer": "ipython3",
   "version": "3.9.12"
  },
  "orig_nbformat": 4
 },
 "nbformat": 4,
 "nbformat_minor": 2
}
