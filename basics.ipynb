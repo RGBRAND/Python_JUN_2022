{
 "cells": [
  {
   "cell_type": "markdown",
   "metadata": {},
   "source": [
    "# Operators"
   ]
  },
  {
   "cell_type": "code",
   "execution_count": 1,
   "metadata": {},
   "outputs": [
    {
     "data": {
      "text/plain": [
       "88"
      ]
     },
     "execution_count": 1,
     "metadata": {},
     "output_type": "execute_result"
    }
   ],
   "source": [
    "55+33"
   ]
  },
  {
   "cell_type": "code",
   "execution_count": 2,
   "metadata": {},
   "outputs": [
    {
     "data": {
      "text/plain": [
       "4"
      ]
     },
     "execution_count": 2,
     "metadata": {},
     "output_type": "execute_result"
    }
   ],
   "source": [
    "2+2\n"
   ]
  },
  {
   "cell_type": "code",
   "execution_count": null,
   "metadata": {},
   "outputs": [],
   "source": [
    "3+5"
   ]
  },
  {
   "cell_type": "code",
   "execution_count": 3,
   "metadata": {},
   "outputs": [
    {
     "data": {
      "text/plain": [
       "int"
      ]
     },
     "execution_count": 3,
     "metadata": {},
     "output_type": "execute_result"
    }
   ],
   "source": [
    "pi=3.14\n",
    "p=int(pi)\n",
    "type(p)"
   ]
  },
  {
   "cell_type": "code",
   "execution_count": 4,
   "metadata": {},
   "outputs": [
    {
     "data": {
      "text/plain": [
       "str"
      ]
     },
     "execution_count": 4,
     "metadata": {},
     "output_type": "execute_result"
    }
   ],
   "source": [
    "b=input('age of tiger')\n",
    "type(b)"
   ]
  },
  {
   "cell_type": "code",
   "execution_count": 5,
   "metadata": {},
   "outputs": [
    {
     "data": {
      "text/plain": [
       "str"
      ]
     },
     "execution_count": 5,
     "metadata": {},
     "output_type": "execute_result"
    }
   ],
   "source": [
    "x=5\n",
    "x=str(5)\n",
    "type(x)"
   ]
  },
  {
   "cell_type": "code",
   "execution_count": 6,
   "metadata": {},
   "outputs": [
    {
     "data": {
      "text/plain": [
       "int"
      ]
     },
     "execution_count": 6,
     "metadata": {},
     "output_type": "execute_result"
    }
   ],
   "source": [
    "num=0\n",
    "val=bool(num)\n",
    "type(num)"
   ]
  },
  {
   "cell_type": "code",
   "execution_count": 7,
   "metadata": {},
   "outputs": [
    {
     "ename": "NameError",
     "evalue": "name 'yes' is not defined",
     "output_type": "error",
     "traceback": [
      "\u001b[1;31m---------------------------------------------------------------------------\u001b[0m",
      "\u001b[1;31mNameError\u001b[0m                                 Traceback (most recent call last)",
      "\u001b[1;32mc:\\Users\\HP PC\\Python_JUN_2022\\basics.ipynb Cell 9'\u001b[0m in \u001b[0;36m<cell line: 1>\u001b[1;34m()\u001b[0m\n\u001b[1;32m----> <a href='vscode-notebook-cell:/c%3A/Users/HP%20PC/Python_JUN_2022/basics.ipynb#ch0000008?line=0'>1</a>\u001b[0m married\u001b[39m=\u001b[39myes\n\u001b[0;32m      <a href='vscode-notebook-cell:/c%3A/Users/HP%20PC/Python_JUN_2022/basics.ipynb#ch0000008?line=1'>2</a>\u001b[0m \u001b[39mtype\u001b[39m(married)\n",
      "\u001b[1;31mNameError\u001b[0m: name 'yes' is not defined"
     ]
    }
   ],
   "source": [
    "married=yes\n",
    "type(married)"
   ]
  },
  {
   "cell_type": "code",
   "execution_count": 10,
   "metadata": {},
   "outputs": [
    {
     "data": {
      "text/plain": [
       "bool"
      ]
     },
     "execution_count": 10,
     "metadata": {},
     "output_type": "execute_result"
    }
   ],
   "source": [
    "married='yes'\n",
    "b=bool(married)\n",
    "type(b)"
   ]
  },
  {
   "cell_type": "code",
   "execution_count": 9,
   "metadata": {},
   "outputs": [
    {
     "data": {
      "text/plain": [
       "bool"
      ]
     },
     "execution_count": 9,
     "metadata": {},
     "output_type": "execute_result"
    }
   ],
   "source": [
    "married='yes'\n",
    "b=bool(married)\n",
    "type(b)"
   ]
  },
  {
   "cell_type": "code",
   "execution_count": 1,
   "metadata": {},
   "outputs": [],
   "source": [
    "name=input(\"enter your name\" )\n",
    "city=input(\"enter your fav city\" )\n",
    "fav_food=input(\"enter your fav food\" )\n",
    "fav_book=input(\"enter your fav book\" )"
   ]
  },
  {
   "cell_type": "code",
   "execution_count": 3,
   "metadata": {},
   "outputs": [
    {
     "name": "stdout",
     "output_type": "stream",
     "text": [
      "your name:ram\n",
      "your city:mumbai\n",
      "your fav food:stir food\n",
      "your fav book:jeet aap ki\n"
     ]
    }
   ],
   "source": [
    "print(f'your name:{name}')\n",
    "print(f'your city:{city}')\n",
    "print(f'your fav food:{fav_food}')\n",
    "print(f'your fav book:{fav_book}')"
   ]
  },
  {
   "cell_type": "code",
   "execution_count": 5,
   "metadata": {},
   "outputs": [
    {
     "name": "stdout",
     "output_type": "stream",
     "text": [
      "55+55=77\n"
     ]
    }
   ],
   "source": [
    "num=int(input('enter a number:'))\n",
    "num2=int(input('enter another number:'))\n",
    "num3= num+num2\n",
    "print(f'{num}+{num}={num3}')"
   ]
  },
  {
   "cell_type": "code",
   "execution_count": 6,
   "metadata": {},
   "outputs": [
    {
     "name": "stdout",
     "output_type": "stream",
     "text": [
      "22+33+44+55+66\n"
     ]
    }
   ],
   "source": [
    "num=int(input('enter a number:'))\n",
    "num2=int(input('enter 2nd number:'))\n",
    "num3=int(input('enter 3rd number:'))\n",
    "num4=int(input('enter 4th number:'))\n",
    "num5=int(input('enter 5th number:'))\n",
    "print(f'{num}+{num2}+{num3}+{num4}+{num5}')"
   ]
  },
  {
   "cell_type": "code",
   "execution_count": 7,
   "metadata": {},
   "outputs": [
    {
     "ename": "SyntaxError",
     "evalue": "cannot assign to operator (3280446788.py, line 6)",
     "output_type": "error",
     "traceback": [
      "\u001b[1;36m  Input \u001b[1;32mIn [7]\u001b[1;36m\u001b[0m\n\u001b[1;33m    num6= num+num2+num3+num4+num5=num6\u001b[0m\n\u001b[1;37m          ^\u001b[0m\n\u001b[1;31mSyntaxError\u001b[0m\u001b[1;31m:\u001b[0m cannot assign to operator\n"
     ]
    }
   ],
   "source": [
    "num=int(input('enter a number:'))\n",
    "num2=int(input('enter 2nd number:'))\n",
    "num3=int(input('enter 3rd number:'))\n",
    "num4=int(input('enter 4th number:'))\n",
    "num5=int(input('enter 5th number:'))\n",
    "num6= num+num2+num3+num4+num5=num6\n",
    "print(f'{num}+{num2}+{num3}+{num4}+{num5}={num6}')"
   ]
  },
  {
   "cell_type": "code",
   "execution_count": 8,
   "metadata": {},
   "outputs": [],
   "source": [
    "#h=(p**2 + b**2)**0.5"
   ]
  },
  {
   "cell_type": "code",
   "execution_count": 9,
   "metadata": {},
   "outputs": [],
   "source": [
    "p=3\n",
    "b=5"
   ]
  },
  {
   "cell_type": "code",
   "execution_count": 13,
   "metadata": {},
   "outputs": [
    {
     "name": "stdout",
     "output_type": "stream",
     "text": [
      "hypo:7.810249675906654\n"
     ]
    }
   ],
   "source": [
    "p=int(input(\"height\"))\n",
    "b=int(input(\"base\"))\n",
    "h=(p**2 + b**2)**0.5\n",
    "print(f'hypo:{h}')"
   ]
  },
  {
   "cell_type": "code",
   "execution_count": 15,
   "metadata": {},
   "outputs": [
    {
     "ename": "ValueError",
     "evalue": "could not convert string to float: ''",
     "output_type": "error",
     "traceback": [
      "\u001b[1;31m---------------------------------------------------------------------------\u001b[0m",
      "\u001b[1;31mValueError\u001b[0m                                Traceback (most recent call last)",
      "\u001b[1;32mc:\\Users\\HP PC\\Python_JUN_2022\\basics.ipynb Cell 20'\u001b[0m in \u001b[0;36m<cell line: 3>\u001b[1;34m()\u001b[0m\n\u001b[0;32m      <a href='vscode-notebook-cell:/c%3A/Users/HP%20PC/Python_JUN_2022/basics.ipynb#ch0000022?line=0'>1</a>\u001b[0m p\u001b[39m=\u001b[39m\u001b[39mfloat\u001b[39m(\u001b[39minput\u001b[39m(\u001b[39m\"\u001b[39m\u001b[39menter the principal\u001b[39m\u001b[39m\"\u001b[39m))\n\u001b[0;32m      <a href='vscode-notebook-cell:/c%3A/Users/HP%20PC/Python_JUN_2022/basics.ipynb#ch0000022?line=1'>2</a>\u001b[0m r\u001b[39m=\u001b[39m\u001b[39mfloat\u001b[39m(\u001b[39minput\u001b[39m(\u001b[39m\"\u001b[39m\u001b[39menter rate of intrest\u001b[39m\u001b[39m\"\u001b[39m))\n\u001b[1;32m----> <a href='vscode-notebook-cell:/c%3A/Users/HP%20PC/Python_JUN_2022/basics.ipynb#ch0000022?line=2'>3</a>\u001b[0m t\u001b[39m=\u001b[39m\u001b[39mfloat\u001b[39;49m(\u001b[39minput\u001b[39;49m(\u001b[39m\"\u001b[39;49m\u001b[39mduration of time\u001b[39;49m\u001b[39m\"\u001b[39;49m))\n\u001b[0;32m      <a href='vscode-notebook-cell:/c%3A/Users/HP%20PC/Python_JUN_2022/basics.ipynb#ch0000022?line=3'>4</a>\u001b[0m a\u001b[39m=\u001b[39msi\u001b[39m+\u001b[39mp\n\u001b[0;32m      <a href='vscode-notebook-cell:/c%3A/Users/HP%20PC/Python_JUN_2022/basics.ipynb#ch0000022?line=4'>5</a>\u001b[0m \u001b[39mprint\u001b[39m(\u001b[39mf\u001b[39m\u001b[39m'\u001b[39m\u001b[39msimple intrest:(si)\u001b[39m\u001b[39m'\u001b[39m)\n",
      "\u001b[1;31mValueError\u001b[0m: could not convert string to float: ''"
     ]
    }
   ],
   "source": [
    "p=float(input(\"enter the principal\"))\n",
    "r=float(input(\"enter rate of intrest\"))\n",
    "t=float(input(\"duration of time\"))\n",
    "a=si+p\n",
    "print(f'simple intrest:(si)')\n",
    "print(f'amount:(a)')"
   ]
  },
  {
   "cell_type": "code",
   "execution_count": 17,
   "metadata": {},
   "outputs": [
    {
     "name": "stdout",
     "output_type": "stream",
     "text": [
      "simple intrest:3418458.12\n",
      "amount:3425124.12\n"
     ]
    }
   ],
   "source": [
    "p=float(input(\"enter the principal\"))\n",
    "r=float(input(\"enter rate of intrest\"))\n",
    "t=float(input(\"duration of time\"))\n",
    "si=(p*t*r)/100\n",
    "a=si+p\n",
    "print(f'simple intrest:{si}')\n",
    "print(f'amount:{a}')\n"
   ]
  },
  {
   "cell_type": "code",
   "execution_count": 20,
   "metadata": {},
   "outputs": [
    {
     "name": "stdout",
     "output_type": "stream",
     "text": [
      "you see an apple\n",
      "purchase two kg of apple\n"
     ]
    }
   ],
   "source": [
    "print('you see an apple')\n",
    "q=input('do you like apple?')\n",
    "if q== \"yes\" :\n",
    "    print('purchase two kg of apple')\n",
    "if q== \"no\" :\n",
    "    print('you do not purchase apple')"
   ]
  },
  {
   "cell_type": "code",
   "execution_count": 21,
   "metadata": {},
   "outputs": [
    {
     "name": "stdout",
     "output_type": "stream",
     "text": [
      "m is mass\n",
      "calculate mass\n"
     ]
    }
   ],
   "source": [
    "print(\"m is mass\")\n",
    "q==input(\"calculate the mass\")\n",
    "if q==\"yes\" :\n",
    "    print(\"calculate mass\")\n",
    "if q== \"no\" :\n",
    "    print('do not calculate')"
   ]
  },
  {
   "cell_type": "code",
   "execution_count": 22,
   "metadata": {},
   "outputs": [],
   "source": [
    "x=5\n",
    "if x>5 :\n",
    "    print('x is greater than 5')\n",
    "    print('x is the info we needed')\n",
    "    print('with this power, comes grear responsibilites')\n",
    "    print('the end')"
   ]
  },
  {
   "cell_type": "code",
   "execution_count": 23,
   "metadata": {},
   "outputs": [
    {
     "name": "stdout",
     "output_type": "stream",
     "text": [
      "the end\n"
     ]
    }
   ],
   "source": [
    "x=5\n",
    "if x>5 :\n",
    "    print('x is greater than 5')\n",
    "    print('x is the info we needed')\n",
    "    print('with this power, comes grear responsibilites')\n",
    "print('the end')"
   ]
  },
  {
   "cell_type": "code",
   "execution_count": 24,
   "metadata": {},
   "outputs": [
    {
     "name": "stdout",
     "output_type": "stream",
     "text": [
      "the end\n"
     ]
    }
   ],
   "source": [
    "x=-3\n",
    "if x>5 :\n",
    "    print('x is greater than 5')\n",
    "    print('x is the info we needed')\n",
    "    print('with this power, comes grear responsibilites')\n",
    "print('the end')"
   ]
  },
  {
   "cell_type": "code",
   "execution_count": 26,
   "metadata": {},
   "outputs": [
    {
     "name": "stdout",
     "output_type": "stream",
     "text": [
      "wear shotrs\n",
      "get some exercise outside\n"
     ]
    }
   ],
   "source": [
    "temp = float(input('what is the tempr?'))\n",
    "if temp > 68 :\n",
    "    print('wear shotrs')\n",
    "else:\n",
    "    print('wear long pants.')\n",
    "print('get some exercise outside')"
   ]
  },
  {
   "cell_type": "code",
   "execution_count": 27,
   "metadata": {},
   "outputs": [
    {
     "name": "stdout",
     "output_type": "stream",
     "text": [
      "do not buy ship\n"
     ]
    }
   ],
   "source": [
    "cost = float(input('what is the cost of ship'))\n",
    "if cost > 5000**2:\n",
    "    print('do not buy ship')\n",
    "else:\n",
    "    print('buy ship')"
   ]
  },
  {
   "cell_type": "code",
   "execution_count": 30,
   "metadata": {},
   "outputs": [
    {
     "name": "stdout",
     "output_type": "stream",
     "text": [
      "D\n"
     ]
    }
   ],
   "source": [
    "score = int(input('your score'))\n",
    "if score >=98:\n",
    "    letter = 'A'\n",
    "elif score >=80:\n",
    "    letter = 'B'\n",
    "elif score >=70:\n",
    "    letter ='C'\n",
    "elif score >60:\n",
    "    letter = 'D'\n",
    "else:\n",
    "    letter = 'G'\n",
    "print(letter)"
   ]
  }
 ],
 "metadata": {
  "interpreter": {
   "hash": "c28b3cece02bc02c12fa5766a988d4443922620539affbc7b46a193a80d0f256"
  },
  "kernelspec": {
   "display_name": "Python 3.9.12 ('base')",
   "language": "python",
   "name": "python3"
  },
  "language_info": {
   "codemirror_mode": {
    "name": "ipython",
    "version": 3
   },
   "file_extension": ".py",
   "mimetype": "text/x-python",
   "name": "python",
   "nbconvert_exporter": "python",
   "pygments_lexer": "ipython3",
   "version": "3.9.12"
  },
  "orig_nbformat": 4
 },
 "nbformat": 4,
 "nbformat_minor": 2
}
