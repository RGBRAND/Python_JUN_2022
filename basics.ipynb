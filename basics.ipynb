{
 "cells": [
  {
   "cell_type": "markdown",
   "metadata": {},
   "source": [
    "# Operators"
   ]
  },
  {
   "cell_type": "code",
   "execution_count": null,
   "metadata": {},
   "outputs": [],
   "source": []
  },
  {
   "cell_type": "code",
   "execution_count": 1,
   "metadata": {},
   "outputs": [
    {
     "data": {
      "text/plain": [
       "88"
      ]
     },
     "execution_count": 1,
     "metadata": {},
     "output_type": "execute_result"
    }
   ],
   "source": [
    "55+33"
   ]
  },
  {
   "cell_type": "code",
   "execution_count": 2,
   "metadata": {},
   "outputs": [
    {
     "data": {
      "text/plain": [
       "4"
      ]
     },
     "execution_count": 2,
     "metadata": {},
     "output_type": "execute_result"
    }
   ],
   "source": [
    "2+2\n"
   ]
  },
  {
   "cell_type": "code",
   "execution_count": null,
   "metadata": {},
   "outputs": [],
   "source": [
    "3+5"
   ]
  },
  {
   "cell_type": "code",
   "execution_count": 3,
   "metadata": {},
   "outputs": [
    {
     "data": {
      "text/plain": [
       "int"
      ]
     },
     "execution_count": 3,
     "metadata": {},
     "output_type": "execute_result"
    }
   ],
   "source": [
    "pi=3.14\n",
    "p=int(pi)\n",
    "type(p)"
   ]
  },
  {
   "cell_type": "code",
   "execution_count": 4,
   "metadata": {},
   "outputs": [
    {
     "data": {
      "text/plain": [
       "str"
      ]
     },
     "execution_count": 4,
     "metadata": {},
     "output_type": "execute_result"
    }
   ],
   "source": [
    "b=input('age of tiger')\n",
    "type(b)"
   ]
  },
  {
   "cell_type": "code",
   "execution_count": 5,
   "metadata": {},
   "outputs": [
    {
     "data": {
      "text/plain": [
       "str"
      ]
     },
     "execution_count": 5,
     "metadata": {},
     "output_type": "execute_result"
    }
   ],
   "source": [
    "x=5\n",
    "x=str(5)\n",
    "type(x)"
   ]
  },
  {
   "cell_type": "code",
   "execution_count": 6,
   "metadata": {},
   "outputs": [
    {
     "data": {
      "text/plain": [
       "int"
      ]
     },
     "execution_count": 6,
     "metadata": {},
     "output_type": "execute_result"
    }
   ],
   "source": [
    "num=0\n",
    "val=bool(num)\n",
    "type(num)"
   ]
  },
  {
   "cell_type": "code",
   "execution_count": 7,
   "metadata": {},
   "outputs": [
    {
     "ename": "NameError",
     "evalue": "name 'yes' is not defined",
     "output_type": "error",
     "traceback": [
      "\u001b[1;31m---------------------------------------------------------------------------\u001b[0m",
      "\u001b[1;31mNameError\u001b[0m                                 Traceback (most recent call last)",
      "\u001b[1;32mc:\\Users\\HP PC\\Python_JUN_2022\\basics.ipynb Cell 9'\u001b[0m in \u001b[0;36m<cell line: 1>\u001b[1;34m()\u001b[0m\n\u001b[1;32m----> <a href='vscode-notebook-cell:/c%3A/Users/HP%20PC/Python_JUN_2022/basics.ipynb#ch0000008?line=0'>1</a>\u001b[0m married\u001b[39m=\u001b[39myes\n\u001b[0;32m      <a href='vscode-notebook-cell:/c%3A/Users/HP%20PC/Python_JUN_2022/basics.ipynb#ch0000008?line=1'>2</a>\u001b[0m \u001b[39mtype\u001b[39m(married)\n",
      "\u001b[1;31mNameError\u001b[0m: name 'yes' is not defined"
     ]
    }
   ],
   "source": [
    "married=yes\n",
    "type(married)"
   ]
  },
  {
   "cell_type": "code",
   "execution_count": 10,
   "metadata": {},
   "outputs": [
    {
     "data": {
      "text/plain": [
       "bool"
      ]
     },
     "execution_count": 10,
     "metadata": {},
     "output_type": "execute_result"
    }
   ],
   "source": [
    "married='yes'\n",
    "b=bool(married)\n",
    "type(b)"
   ]
  },
  {
   "cell_type": "code",
   "execution_count": 9,
   "metadata": {},
   "outputs": [
    {
     "data": {
      "text/plain": [
       "bool"
      ]
     },
     "execution_count": 9,
     "metadata": {},
     "output_type": "execute_result"
    }
   ],
   "source": [
    "married='yes'\n",
    "b=bool(married)\n",
    "type(b)"
   ]
  },
  {
   "cell_type": "code",
   "execution_count": 1,
   "metadata": {},
   "outputs": [],
   "source": [
    "name=input(\"enter your name\" )\n",
    "city=input(\"enter your fav city\" )\n",
    "fav_food=input(\"enter your fav food\" )\n",
    "fav_book=input(\"enter your fav book\" )"
   ]
  },
  {
   "cell_type": "code",
   "execution_count": 3,
   "metadata": {},
   "outputs": [
    {
     "name": "stdout",
     "output_type": "stream",
     "text": [
      "your name:ram\n",
      "your city:mumbai\n",
      "your fav food:stir food\n",
      "your fav book:jeet aap ki\n"
     ]
    }
   ],
   "source": [
    "print(f'your name:{name}')\n",
    "print(f'your city:{city}')\n",
    "print(f'your fav food:{fav_food}')\n",
    "print(f'your fav book:{fav_book}')"
   ]
  },
  {
   "cell_type": "code",
   "execution_count": 5,
   "metadata": {},
   "outputs": [
    {
     "name": "stdout",
     "output_type": "stream",
     "text": [
      "55+55=77\n"
     ]
    }
   ],
   "source": [
    "num=int(input('enter a number:'))\n",
    "num2=int(input('enter another number:'))\n",
    "num3= num+num2\n",
    "print(f'{num}+{num}={num3}')"
   ]
  },
  {
   "cell_type": "code",
   "execution_count": 6,
   "metadata": {},
   "outputs": [
    {
     "name": "stdout",
     "output_type": "stream",
     "text": [
      "22+33+44+55+66\n"
     ]
    }
   ],
   "source": [
    "num=int(input('enter a number:'))\n",
    "num2=int(input('enter 2nd number:'))\n",
    "num3=int(input('enter 3rd number:'))\n",
    "num4=int(input('enter 4th number:'))\n",
    "num5=int(input('enter 5th number:'))\n",
    "print(f'{num}+{num2}+{num3}+{num4}+{num5}')"
   ]
  },
  {
   "cell_type": "code",
   "execution_count": 7,
   "metadata": {},
   "outputs": [
    {
     "ename": "SyntaxError",
     "evalue": "cannot assign to operator (3280446788.py, line 6)",
     "output_type": "error",
     "traceback": [
      "\u001b[1;36m  Input \u001b[1;32mIn [7]\u001b[1;36m\u001b[0m\n\u001b[1;33m    num6= num+num2+num3+num4+num5=num6\u001b[0m\n\u001b[1;37m          ^\u001b[0m\n\u001b[1;31mSyntaxError\u001b[0m\u001b[1;31m:\u001b[0m cannot assign to operator\n"
     ]
    }
   ],
   "source": [
    "num=int(input('enter a number:'))\n",
    "num2=int(input('enter 2nd number:'))\n",
    "num3=int(input('enter 3rd number:'))\n",
    "num4=int(input('enter 4th number:'))\n",
    "num5=int(input('enter 5th number:'))\n",
    "num6= num+num2+num3+num4+num5=num6\n",
    "print(f'{num}+{num2}+{num3}+{num4}+{num5}={num6}')"
   ]
  },
  {
   "cell_type": "code",
   "execution_count": 8,
   "metadata": {},
   "outputs": [],
   "source": [
    "#h=(p**2 + b**2)**0.5"
   ]
  },
  {
   "cell_type": "code",
   "execution_count": 9,
   "metadata": {},
   "outputs": [],
   "source": [
    "p=3\n",
    "b=5"
   ]
  },
  {
   "cell_type": "code",
   "execution_count": 13,
   "metadata": {},
   "outputs": [
    {
     "name": "stdout",
     "output_type": "stream",
     "text": [
      "hypo:7.810249675906654\n"
     ]
    }
   ],
   "source": [
    "p=int(input(\"height\"))\n",
    "b=int(input(\"base\"))\n",
    "h=(p**2 + b**2)**0.5\n",
    "print(f'hypo:{h}')"
   ]
  },
  {
   "cell_type": "code",
   "execution_count": 15,
   "metadata": {},
   "outputs": [
    {
     "ename": "ValueError",
     "evalue": "could not convert string to float: ''",
     "output_type": "error",
     "traceback": [
      "\u001b[1;31m---------------------------------------------------------------------------\u001b[0m",
      "\u001b[1;31mValueError\u001b[0m                                Traceback (most recent call last)",
      "\u001b[1;32mc:\\Users\\HP PC\\Python_JUN_2022\\basics.ipynb Cell 20'\u001b[0m in \u001b[0;36m<cell line: 3>\u001b[1;34m()\u001b[0m\n\u001b[0;32m      <a href='vscode-notebook-cell:/c%3A/Users/HP%20PC/Python_JUN_2022/basics.ipynb#ch0000022?line=0'>1</a>\u001b[0m p\u001b[39m=\u001b[39m\u001b[39mfloat\u001b[39m(\u001b[39minput\u001b[39m(\u001b[39m\"\u001b[39m\u001b[39menter the principal\u001b[39m\u001b[39m\"\u001b[39m))\n\u001b[0;32m      <a href='vscode-notebook-cell:/c%3A/Users/HP%20PC/Python_JUN_2022/basics.ipynb#ch0000022?line=1'>2</a>\u001b[0m r\u001b[39m=\u001b[39m\u001b[39mfloat\u001b[39m(\u001b[39minput\u001b[39m(\u001b[39m\"\u001b[39m\u001b[39menter rate of intrest\u001b[39m\u001b[39m\"\u001b[39m))\n\u001b[1;32m----> <a href='vscode-notebook-cell:/c%3A/Users/HP%20PC/Python_JUN_2022/basics.ipynb#ch0000022?line=2'>3</a>\u001b[0m t\u001b[39m=\u001b[39m\u001b[39mfloat\u001b[39;49m(\u001b[39minput\u001b[39;49m(\u001b[39m\"\u001b[39;49m\u001b[39mduration of time\u001b[39;49m\u001b[39m\"\u001b[39;49m))\n\u001b[0;32m      <a href='vscode-notebook-cell:/c%3A/Users/HP%20PC/Python_JUN_2022/basics.ipynb#ch0000022?line=3'>4</a>\u001b[0m a\u001b[39m=\u001b[39msi\u001b[39m+\u001b[39mp\n\u001b[0;32m      <a href='vscode-notebook-cell:/c%3A/Users/HP%20PC/Python_JUN_2022/basics.ipynb#ch0000022?line=4'>5</a>\u001b[0m \u001b[39mprint\u001b[39m(\u001b[39mf\u001b[39m\u001b[39m'\u001b[39m\u001b[39msimple intrest:(si)\u001b[39m\u001b[39m'\u001b[39m)\n",
      "\u001b[1;31mValueError\u001b[0m: could not convert string to float: ''"
     ]
    }
   ],
   "source": [
    "p=float(input(\"enter the principal\"))\n",
    "r=float(input(\"enter rate of intrest\"))\n",
    "t=float(input(\"duration of time\"))\n",
    "a=si+p\n",
    "print(f'simple intrest:(si)')\n",
    "print(f'amount:(a)')"
   ]
  },
  {
   "cell_type": "code",
   "execution_count": 17,
   "metadata": {},
   "outputs": [
    {
     "name": "stdout",
     "output_type": "stream",
     "text": [
      "simple intrest:3418458.12\n",
      "amount:3425124.12\n"
     ]
    }
   ],
   "source": [
    "p=float(input(\"enter the principal\"))\n",
    "r=float(input(\"enter rate of intrest\"))\n",
    "t=float(input(\"duration of time\"))\n",
    "si=(p*t*r)/100\n",
    "a=si+p\n",
    "print(f'simple intrest:{si}')\n",
    "print(f'amount:{a}')\n"
   ]
  },
  {
   "cell_type": "code",
   "execution_count": 20,
   "metadata": {},
   "outputs": [
    {
     "name": "stdout",
     "output_type": "stream",
     "text": [
      "you see an apple\n",
      "purchase two kg of apple\n"
     ]
    }
   ],
   "source": [
    "print('you see an apple')\n",
    "q=input('do you like apple?')\n",
    "if q== \"yes\" :\n",
    "    print('purchase two kg of apple')\n",
    "if q== \"no\" :\n",
    "    print('you do not purchase apple')"
   ]
  },
  {
   "cell_type": "code",
   "execution_count": 21,
   "metadata": {},
   "outputs": [
    {
     "name": "stdout",
     "output_type": "stream",
     "text": [
      "m is mass\n",
      "calculate mass\n"
     ]
    }
   ],
   "source": [
    "print(\"m is mass\")\n",
    "q==input(\"calculate the mass\")\n",
    "if q==\"yes\" :\n",
    "    print(\"calculate mass\")\n",
    "if q== \"no\" :\n",
    "    print('do not calculate')"
   ]
  },
  {
   "cell_type": "code",
   "execution_count": 22,
   "metadata": {},
   "outputs": [],
   "source": [
    "x=5\n",
    "if x>5 :\n",
    "    print('x is greater than 5')\n",
    "    print('x is the info we needed')\n",
    "    print('with this power, comes grear responsibilites')\n",
    "    print('the end')"
   ]
  },
  {
   "cell_type": "code",
   "execution_count": 23,
   "metadata": {},
   "outputs": [
    {
     "name": "stdout",
     "output_type": "stream",
     "text": [
      "the end\n"
     ]
    }
   ],
   "source": [
    "x=5\n",
    "if x>5 :\n",
    "    print('x is greater than 5')\n",
    "    print('x is the info we needed')\n",
    "    print('with this power, comes grear responsibilites')\n",
    "print('the end')"
   ]
  },
  {
   "cell_type": "code",
   "execution_count": 24,
   "metadata": {},
   "outputs": [
    {
     "name": "stdout",
     "output_type": "stream",
     "text": [
      "the end\n"
     ]
    }
   ],
   "source": [
    "x=-3\n",
    "if x>5 :\n",
    "    print('x is greater than 5')\n",
    "    print('x is the info we needed')\n",
    "    print('with this power, comes grear responsibilites')\n",
    "print('the end')"
   ]
  },
  {
   "cell_type": "code",
   "execution_count": 26,
   "metadata": {},
   "outputs": [
    {
     "name": "stdout",
     "output_type": "stream",
     "text": [
      "wear shotrs\n",
      "get some exercise outside\n"
     ]
    }
   ],
   "source": [
    "temp = float(input('what is the tempr?'))\n",
    "if temp > 68 :\n",
    "    print('wear shotrs')\n",
    "else:\n",
    "    print('wear long pants.')\n",
    "print('get some exercise outside')"
   ]
  },
  {
   "cell_type": "code",
   "execution_count": 27,
   "metadata": {},
   "outputs": [
    {
     "name": "stdout",
     "output_type": "stream",
     "text": [
      "do not buy ship\n"
     ]
    }
   ],
   "source": [
    "cost = float(input('what is the cost of ship'))\n",
    "if cost > 5000**2:\n",
    "    print('do not buy ship')\n",
    "else:\n",
    "    print('buy ship')"
   ]
  },
  {
   "cell_type": "code",
   "execution_count": 30,
   "metadata": {},
   "outputs": [
    {
     "name": "stdout",
     "output_type": "stream",
     "text": [
      "D\n"
     ]
    }
   ],
   "source": [
    "score = int(input('your score'))\n",
    "if score >=98:\n",
    "    letter = 'A'\n",
    "elif score >=80:\n",
    "    letter = 'B'\n",
    "elif score >=70:\n",
    "    letter ='C'\n",
    "elif score >60:\n",
    "    letter = 'D'\n",
    "else:\n",
    "    letter = 'G'\n",
    "print(letter)"
   ]
  },
  {
   "cell_type": "code",
   "execution_count": 2,
   "metadata": {},
   "outputs": [
    {
     "name": "stdout",
     "output_type": "stream",
     "text": [
      "name \n"
     ]
    }
   ],
   "source": [
    "name= input('enter your name: ')\n",
    "print('name ')"
   ]
  },
  {
   "cell_type": "code",
   "execution_count": 4,
   "metadata": {},
   "outputs": [
    {
     "name": "stdout",
     "output_type": "stream",
     "text": [
      "Hello mr name \n"
     ]
    }
   ],
   "source": [
    "name= input('enter your name: ')\n",
    "print(\"Hello mr\", 'name ')"
   ]
  },
  {
   "cell_type": "code",
   "execution_count": 6,
   "metadata": {},
   "outputs": [
    {
     "name": "stdout",
     "output_type": "stream",
     "text": [
      "product sum is: 15\n"
     ]
    }
   ],
   "source": [
    "num1 = int(input('enter num1:'))\n",
    "num2 = int(input('enter num2:'))\n",
    "num3 = num1 * num2\n",
    "print(\"product sum is:\", num3)"
   ]
  },
  {
   "cell_type": "code",
   "execution_count": 7,
   "metadata": {},
   "outputs": [
    {
     "name": "stdout",
     "output_type": "stream",
     "text": [
      "num is good\n"
     ]
    }
   ],
   "source": [
    "num = 55\n",
    "if num > 35 :\n",
    "    print(\"num is good\")\n",
    "elif num < 60 :\n",
    "    print(\"not is not good\")"
   ]
  },
  {
   "cell_type": "code",
   "execution_count": 10,
   "metadata": {},
   "outputs": [
    {
     "name": "stdout",
     "output_type": "stream",
     "text": [
      "raj 0\n",
      "raj 1\n",
      "raj 2\n",
      "raj 3\n",
      "raj 4\n",
      "raj 5\n",
      "raj 6\n",
      "raj 7\n",
      "raj 8\n",
      "raj 9\n"
     ]
    }
   ],
   "source": [
    "for step in range(10):\n",
    "    print('raj',step)"
   ]
  },
  {
   "cell_type": "code",
   "execution_count": 14,
   "metadata": {},
   "outputs": [
    {
     "name": "stdout",
     "output_type": "stream",
     "text": [
      "product Rome_Rome_Rome_Rome_Rome_Rome_Rome_Rome_Rome_Rome_Rome_Rome_Rome_Rome_Rome_Rome_Rome_Rome_Rome_Rome_Rome_Rome_Rome_Rome_Rome_Rome_Rome_Rome_Rome_Rome_Rome_Rome_Rome_Rome_Rome_Rome_Rome_Rome_Rome_Rome_Rome_Rome_Rome_Rome_Rome_Rome_Rome_Rome_Rome_Rome_Rome_Rome_Rome_Rome_Rome_Rome_Rome_Rome_Rome_Rome_Rome_Rome_Rome_Rome_Rome_Rome_Rome_Rome_Rome_Rome_Rome_Rome_Rome_Rome_Rome_Rome_Rome_Rome_Rome_Rome_Rome_Rome_Rome_Rome_Rome_Rome_Rome_Rome_Rome_Rome_Rome_Rome_Rome_Rome_Rome_Rome_Rome_Rome_Rome_Rome_Rome_Rome_Rome_Rome_Rome_Rome_Rome_Rome_Rome_Rome_Rome_Rome_Rome_Rome_Rome_Rome_Rome_Rome_Rome_Rome_Rome_Rome_Rome_Rome_Rome_Rome_Rome_Rome_Rome_Rome_Rome_Rome_Rome_Rome_Rome_Rome_Rome_Rome_Rome_Rome_Rome_Rome_Rome_Rome_Rome_Rome_Rome_Rome_Rome_Rome_Rome_Rome_Rome_Rome_Rome_Rome_Rome_Rome_Rome_Rome_Rome_Rome_Rome_Rome_Rome_Rome_Rome_Rome_Rome_Rome_Rome_Rome_Rome_Rome_Rome_Rome_Rome_Rome_Rome_Rome_Rome_Rome_Rome_Rome_Rome_Rome_Rome_Rome_Rome_Rome_Rome_Rome_Rome_Rome_Rome_Rome_Rome_Rome_Rome_Rome_Rome_Rome_Rome_Rome_Rome_Rome_Rome_Rome_Rome_Rome_Rome_Rome_Rome_Rome_Rome_Rome_Rome_Rome_Rome_Rome_Rome_Rome_Rome_Rome_Rome_Rome_Rome_Rome_Rome_Rome_Rome_Rome_Rome_Rome_Rome_Rome_Rome_Rome_Rome_Rome_Rome_Rome_Rome_Rome_Rome_Rome_Rome_Rome_Rome_Rome_Rome_Rome_Rome_Rome_Rome_Rome_Rome_Rome_Rome_Rome_Rome_Rome_Rome_Rome_Rome_Rome_Rome_Rome_Rome_Rome_Rome_Rome_Rome_Rome_Rome_Rome_Rome_Rome_Rome_Rome_Rome_Rome_Rome_Rome_Rome_Rome_Rome_Rome_Rome_Rome_Rome_Rome_Rome_Rome_Rome_Rome_Rome_Rome_Rome_Rome_Rome_Rome_Rome_Rome_Rome_Rome_Rome_Rome_Rome_Rome_Rome_Rome_Rome_Rome_Rome_Rome_Rome_Rome_Rome_Rome_Rome_Rome_Rome_Rome_Rome_Rome_Rome_Rome_Rome_Rome_Rome_Rome_Rome_Rome_Rome_Rome_Rome_Rome_Rome_Rome_Rome_Rome_Rome_Rome_Rome_Rome_Rome_Rome_Rome_Rome_Rome_Rome_Rome_Rome_Rome_Rome_Rome_Rome_Rome_Rome_Rome_Rome_Rome_Rome_Rome_Rome_Rome_Rome_Rome_Rome_Rome_Rome_Rome_Rome_Rome_Rome_Rome_Rome_Rome_Rome_Rome_Rome_Rome_Rome_Rome_Rome_Rome_Rome_Rome_Rome_Rome_Rome_Rome_Rome_Rome_Rome_Rome_Rome_Rome_Rome_Rome_Rome_Rome_Rome_Rome_Rome_Rome_Rome_Rome_Rome_Rome_Rome_Rome_Rome_Rome_Rome_Rome_Rome_Rome_Rome_Rome_Rome_Rome_Rome_Rome_Rome_Rome_Rome_Rome_Rome_Rome_Rome_Rome_Rome_Rome_Rome_Rome_Rome_Rome_Rome_Rome_Rome_Rome_Rome_Rome_Rome_Rome_Rome_Rome_Rome_Rome_Rome_Rome_Rome_Rome_Rome_Rome_Rome_Rome_Rome_Rome_Rome_Rome_Rome_Rome_Rome_Rome_Rome_Rome_Rome_Rome_Rome_Rome_Rome_Rome_Rome_Rome_Rome_Rome_Rome_Rome_Rome_Rome_Rome_Rome_Rome_Rome_Rome_Rome_Rome_Rome_Rome_Rome_Rome_Rome_Rome_Rome_Rome_Rome_Rome_\n"
     ]
    }
   ],
   "source": [
    "x = \"Rome_\"\n",
    "y = 500\n",
    "z = x * y\n",
    "print('product',z)"
   ]
  },
  {
   "cell_type": "code",
   "execution_count": 15,
   "metadata": {},
   "outputs": [
    {
     "name": "stdout",
     "output_type": "stream",
     "text": [
      "5\n"
     ]
    }
   ],
   "source": [
    "print(5)"
   ]
  },
  {
   "cell_type": "code",
   "execution_count": 16,
   "metadata": {},
   "outputs": [
    {
     "ename": "NameError",
     "evalue": "name 'rak' is not defined",
     "output_type": "error",
     "traceback": [
      "\u001b[1;31m---------------------------------------------------------------------------\u001b[0m",
      "\u001b[1;31mNameError\u001b[0m                                 Traceback (most recent call last)",
      "\u001b[1;32mc:\\Users\\HP PC\\Python_JUN_2022\\basics.ipynb Cell 38'\u001b[0m in \u001b[0;36m<cell line: 2>\u001b[1;34m()\u001b[0m\n\u001b[0;32m      <a href='vscode-notebook-cell:/c%3A/Users/HP%20PC/Python_JUN_2022/basics.ipynb#ch0000037?line=0'>1</a>\u001b[0m x\u001b[39m=\u001b[39m\u001b[39m23\u001b[39m\n\u001b[1;32m----> <a href='vscode-notebook-cell:/c%3A/Users/HP%20PC/Python_JUN_2022/basics.ipynb#ch0000037?line=1'>2</a>\u001b[0m y \u001b[39m=\u001b[39m rak\n\u001b[0;32m      <a href='vscode-notebook-cell:/c%3A/Users/HP%20PC/Python_JUN_2022/basics.ipynb#ch0000037?line=2'>3</a>\u001b[0m z \u001b[39m=\u001b[39m \u001b[39m0.22\u001b[39m\n\u001b[0;32m      <a href='vscode-notebook-cell:/c%3A/Users/HP%20PC/Python_JUN_2022/basics.ipynb#ch0000037?line=3'>4</a>\u001b[0m \u001b[39mprint\u001b[39m(\u001b[39mtype\u001b[39m(x))\n",
      "\u001b[1;31mNameError\u001b[0m: name 'rak' is not defined"
     ]
    }
   ],
   "source": [
    "x= 23\n",
    "y = rak\n",
    "z = 0.22\n",
    "print(type(x))\n",
    "print(type(y))\n",
    "print(type(c))"
   ]
  },
  {
   "cell_type": "code",
   "execution_count": 18,
   "metadata": {},
   "outputs": [
    {
     "ename": "NameError",
     "evalue": "name 'rak' is not defined",
     "output_type": "error",
     "traceback": [
      "\u001b[1;31m---------------------------------------------------------------------------\u001b[0m",
      "\u001b[1;31mNameError\u001b[0m                                 Traceback (most recent call last)",
      "\u001b[1;32mc:\\Users\\HP PC\\Python_JUN_2022\\basics.ipynb Cell 39'\u001b[0m in \u001b[0;36m<cell line: 2>\u001b[1;34m()\u001b[0m\n\u001b[0;32m      <a href='vscode-notebook-cell:/c%3A/Users/HP%20PC/Python_JUN_2022/basics.ipynb#ch0000038?line=0'>1</a>\u001b[0m x\u001b[39m=\u001b[39m \u001b[39m23\u001b[39m\n\u001b[1;32m----> <a href='vscode-notebook-cell:/c%3A/Users/HP%20PC/Python_JUN_2022/basics.ipynb#ch0000038?line=1'>2</a>\u001b[0m y \u001b[39m=\u001b[39m rak\n\u001b[0;32m      <a href='vscode-notebook-cell:/c%3A/Users/HP%20PC/Python_JUN_2022/basics.ipynb#ch0000038?line=2'>3</a>\u001b[0m z \u001b[39m=\u001b[39m \u001b[39m0.22\u001b[39m\n\u001b[0;32m      <a href='vscode-notebook-cell:/c%3A/Users/HP%20PC/Python_JUN_2022/basics.ipynb#ch0000038?line=3'>4</a>\u001b[0m \u001b[39mtype\u001b[39m(x)\n",
      "\u001b[1;31mNameError\u001b[0m: name 'rak' is not defined"
     ]
    }
   ],
   "source": [
    "x= 23\n",
    "y = rak\n",
    "z = 0.22\n",
    "type(x)"
   ]
  },
  {
   "cell_type": "code",
   "execution_count": 22,
   "metadata": {},
   "outputs": [
    {
     "name": "stdout",
     "output_type": "stream",
     "text": [
      "True\n",
      "True\n",
      "2\n"
     ]
    }
   ],
   "source": [
    "print(False == 0)\n",
    "print(True == 1)\n",
    "print(True + True + False)"
   ]
  },
  {
   "cell_type": "code",
   "execution_count": 26,
   "metadata": {},
   "outputs": [
    {
     "ename": "IndentationError",
     "evalue": "expected an indented block (1865825023.py, line 2)",
     "output_type": "error",
     "traceback": [
      "\u001b[1;36m  Input \u001b[1;32mIn [26]\u001b[1;36m\u001b[0m\n\u001b[1;33m    print(i, end='5')\u001b[0m\n\u001b[1;37m    ^\u001b[0m\n\u001b[1;31mIndentationError\u001b[0m\u001b[1;31m:\u001b[0m expected an indented block\n"
     ]
    }
   ],
   "source": [
    "for i in range(10):\n",
    "print(i, end='5')"
   ]
  },
  {
   "cell_type": "code",
   "execution_count": 27,
   "metadata": {},
   "outputs": [],
   "source": [
    "def fun() :\n",
    "    print('inside function')"
   ]
  },
  {
   "cell_type": "code",
   "execution_count": 35,
   "metadata": {},
   "outputs": [
    {
     "ename": "SyntaxError",
     "evalue": "'return' outside function (4241597505.py, line 5)",
     "output_type": "error",
     "traceback": [
      "\u001b[1;36m  Input \u001b[1;32mIn [35]\u001b[1;36m\u001b[0m\n\u001b[1;33m    return 'S'\u001b[0m\n\u001b[1;37m    ^\u001b[0m\n\u001b[1;31mSyntaxError\u001b[0m\u001b[1;31m:\u001b[0m 'return' outside function\n"
     ]
    }
   ],
   "source": [
    "def fun():\n",
    "    S = 0\n",
    "for i in range(10) :\n",
    "    S += i\n",
    "    return 'S'\n",
    "print(fun())"
   ]
  },
  {
   "cell_type": "code",
   "execution_count": 32,
   "metadata": {},
   "outputs": [
    {
     "ename": "IndentationError",
     "evalue": "expected an indented block (803233598.py, line 1)",
     "output_type": "error",
     "traceback": [
      "\u001b[1;36m  Input \u001b[1;32mIn [32]\u001b[1;36m\u001b[0m\n\u001b[1;33m    for step in range(100):\u001b[0m\n\u001b[1;37m                           ^\u001b[0m\n\u001b[1;31mIndentationError\u001b[0m\u001b[1;31m:\u001b[0m expected an indented block\n"
     ]
    }
   ],
   "source": [
    "for step in range(100):"
   ]
  },
  {
   "cell_type": "code",
   "execution_count": 33,
   "metadata": {},
   "outputs": [
    {
     "name": "stdout",
     "output_type": "stream",
     "text": [
      "0\n",
      "1\n",
      "2\n",
      "3\n",
      "4\n",
      "5\n",
      "6\n",
      "7\n",
      "8\n",
      "9\n"
     ]
    }
   ],
   "source": [
    "for step in range(10):\n",
    "    print(step)"
   ]
  },
  {
   "cell_type": "code",
   "execution_count": 34,
   "metadata": {},
   "outputs": [
    {
     "name": "stdout",
     "output_type": "stream",
     "text": [
      "0\n",
      "1\n",
      "2\n",
      "3\n",
      "4\n",
      "5\n",
      "6\n",
      "7\n",
      "8\n",
      "9\n",
      "10\n",
      "11\n",
      "12\n",
      "13\n",
      "14\n",
      "15\n",
      "16\n",
      "17\n",
      "18\n",
      "19\n",
      "20\n",
      "21\n",
      "22\n",
      "23\n",
      "24\n",
      "25\n",
      "26\n",
      "27\n",
      "28\n",
      "29\n",
      "30\n",
      "31\n",
      "32\n",
      "33\n",
      "34\n",
      "35\n",
      "36\n",
      "37\n",
      "38\n",
      "39\n",
      "40\n",
      "41\n",
      "42\n",
      "43\n",
      "44\n",
      "45\n",
      "46\n",
      "47\n",
      "48\n",
      "49\n",
      "50\n",
      "51\n",
      "52\n",
      "53\n",
      "54\n",
      "55\n",
      "56\n",
      "57\n",
      "58\n",
      "59\n",
      "60\n",
      "61\n",
      "62\n",
      "63\n",
      "64\n",
      "65\n",
      "66\n",
      "67\n",
      "68\n",
      "69\n",
      "70\n",
      "71\n",
      "72\n",
      "73\n",
      "74\n",
      "75\n",
      "76\n",
      "77\n",
      "78\n",
      "79\n",
      "80\n",
      "81\n",
      "82\n",
      "83\n",
      "84\n",
      "85\n",
      "86\n",
      "87\n",
      "88\n",
      "89\n",
      "90\n",
      "91\n",
      "92\n",
      "93\n",
      "94\n",
      "95\n",
      "96\n",
      "97\n",
      "98\n",
      "99\n"
     ]
    }
   ],
   "source": [
    "for step in range(100) :\n",
    "    print(step)"
   ]
  },
  {
   "cell_type": "code",
   "execution_count": 38,
   "metadata": {},
   "outputs": [
    {
     "name": "stdout",
     "output_type": "stream",
     "text": [
      "0\n",
      "1\n",
      "2\n",
      "3\n",
      "4\n"
     ]
    }
   ],
   "source": [
    "for car in range(5) :\n",
    "    print(car)"
   ]
  },
  {
   "cell_type": "code",
   "execution_count": 1,
   "metadata": {},
   "outputs": [
    {
     "name": "stdout",
     "output_type": "stream",
     "text": [
      "hra: 5%\n"
     ]
    }
   ],
   "source": [
    "salary = 25000\n",
    "if salary > 20000 :\n",
    "    HRA = \"5%\"\n",
    "else :\n",
    "    HRA = \"6%\"\n",
    "print (f'hra: {HRA}')"
   ]
  },
  {
   "cell_type": "code",
   "execution_count": 2,
   "metadata": {},
   "outputs": [
    {
     "name": "stdout",
     "output_type": "stream",
     "text": [
      "hra:5%\n"
     ]
    }
   ],
   "source": [
    "HRA = \"5%\" if salary > 20000 else \"6%\"\n",
    "print(f'hra:{HRA}')"
   ]
  },
  {
   "cell_type": "code",
   "execution_count": 3,
   "metadata": {},
   "outputs": [
    {
     "name": "stdout",
     "output_type": "stream",
     "text": [
      "42\n"
     ]
    }
   ],
   "source": [
    "if 42 in range(100):\n",
    "    print('42')"
   ]
  },
  {
   "cell_type": "code",
   "execution_count": 5,
   "metadata": {},
   "outputs": [
    {
     "name": "stdout",
     "output_type": "stream",
     "text": [
      "Alice\n"
     ]
    }
   ],
   "source": [
    "x = 'Alice' if 'John' in \"my name is Johnas\" else \"Bob\"\n",
    "print(x)"
   ]
  },
  {
   "cell_type": "code",
   "execution_count": 6,
   "metadata": {},
   "outputs": [
    {
     "name": "stdout",
     "output_type": "stream",
     "text": [
      "42\n"
     ]
    }
   ],
   "source": [
    "print('42') if 42 in [23,43,42] else print('21')"
   ]
  },
  {
   "cell_type": "code",
   "execution_count": null,
   "metadata": {},
   "outputs": [],
   "source": []
  }
 ],
 "metadata": {
  "interpreter": {
   "hash": "c28b3cece02bc02c12fa5766a988d4443922620539affbc7b46a193a80d0f256"
  },
  "kernelspec": {
   "display_name": "Python 3.9.12 ('base')",
   "language": "python",
   "name": "python3"
  },
  "language_info": {
   "codemirror_mode": {
    "name": "ipython",
    "version": 3
   },
   "file_extension": ".py",
   "mimetype": "text/x-python",
   "name": "python",
   "nbconvert_exporter": "python",
   "pygments_lexer": "ipython3",
   "version": "3.9.12"
  },
  "orig_nbformat": 4
 },
 "nbformat": 4,
 "nbformat_minor": 2
}
