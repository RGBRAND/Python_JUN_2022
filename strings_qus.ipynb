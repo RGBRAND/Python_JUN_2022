{
 "cells": [
  {
   "cell_type": "markdown",
   "metadata": {},
   "source": [
    "# QUESTIONS"
   ]
  },
  {
   "cell_type": "code",
   "execution_count": 1,
   "metadata": {},
   "outputs": [
    {
     "name": "stdout",
     "output_type": "stream",
     "text": [
      "exam f is message\n"
     ]
    }
   ],
   "source": [
    "\n",
    "vowels = 'aieouAEIOU' \n",
    "msg = input(\"enter something:\")\n",
    "for v in vowels:\n",
    "    msg.replace(v,'')\n",
    "print(msg)\n"
   ]
  },
  {
   "cell_type": "code",
   "execution_count": 2,
   "metadata": {},
   "outputs": [
    {
     "name": "stdout",
     "output_type": "stream",
     "text": [
      "an apple \n"
     ]
    }
   ],
   "source": [
    "vowels = 'aieouAEIOU' \n",
    "msg = input(\"enter something:\")\n",
    "for v in vowels:\n",
    "    msg.replace(v,'')\n",
    "print(msg)"
   ]
  },
  {
   "cell_type": "code",
   "execution_count": 3,
   "metadata": {},
   "outputs": [
    {
     "name": "stdout",
     "output_type": "stream",
     "text": [
      "there is a new message found\n"
     ]
    }
   ],
   "source": [
    "vowels = 'aieouAEIOU' \n",
    "msg = input(\"enter something:\")\n",
    "for v in vowels:\n",
    "    msg.replace(v,'')\n",
    "print(msg)"
   ]
  },
  {
   "cell_type": "code",
   "execution_count": 4,
   "metadata": {},
   "outputs": [
    {
     "name": "stdout",
     "output_type": "stream",
     "text": [
      "1\n"
     ]
    }
   ],
   "source": [
    "msg=input('Enter something')\n",
    "count=0\n",
    "for i in msg:\n",
    "    if i in 'aieouAEIOU':\n",
    "        count+=1\n",
    "    print(count)\n"
   ]
  },
  {
   "cell_type": "code",
   "execution_count": 5,
   "metadata": {},
   "outputs": [
    {
     "name": "stdout",
     "output_type": "stream",
     "text": [
      "3\n"
     ]
    }
   ],
   "source": [
    "msg=input('Enter something')\n",
    "count=0\n",
    "for i in msg:\n",
    "    if i in 'aieouAEIOU':\n",
    "        count+=1\n",
    "print(count)\n"
   ]
  },
  {
   "cell_type": "code",
   "execution_count": 6,
   "metadata": {},
   "outputs": [
    {
     "name": "stdout",
     "output_type": "stream",
     "text": [
      "6\n"
     ]
    }
   ],
   "source": [
    "msg=input('Enter something')\n",
    "count=0\n",
    "for i in msg:\n",
    "    if i in 'aieouAEIOU':\n",
    "        count+=1\n",
    "print(count)"
   ]
  },
  {
   "cell_type": "code",
   "execution_count": 7,
   "metadata": {},
   "outputs": [
    {
     "data": {
      "text/plain": [
       "2"
      ]
     },
     "execution_count": 7,
     "metadata": {},
     "output_type": "execute_result"
    }
   ],
   "source": [
    "\"hellow this is an example of strings\".count(\"is\")"
   ]
  },
  {
   "cell_type": "code",
   "execution_count": 8,
   "metadata": {},
   "outputs": [
    {
     "data": {
      "text/plain": [
       "1"
      ]
     },
     "execution_count": 8,
     "metadata": {},
     "output_type": "execute_result"
    }
   ],
   "source": [
    "\"hellow this is an example of strings\".count(\"an\")"
   ]
  },
  {
   "cell_type": "code",
   "execution_count": 10,
   "metadata": {},
   "outputs": [
    {
     "data": {
      "text/plain": [
       "5"
      ]
     },
     "execution_count": 10,
     "metadata": {},
     "output_type": "execute_result"
    }
   ],
   "source": [
    "\"it was an increadible this that has ever happed to me\".count(\"t\")"
   ]
  },
  {
   "cell_type": "code",
   "execution_count": 11,
   "metadata": {},
   "outputs": [
    {
     "data": {
      "text/plain": [
       "6"
      ]
     },
     "execution_count": 11,
     "metadata": {},
     "output_type": "execute_result"
    }
   ],
   "source": [
    "\"it was an increadible this that has ever happed to me\".count(\"e\")"
   ]
  },
  {
   "cell_type": "code",
   "execution_count": 14,
   "metadata": {},
   "outputs": [
    {
     "name": "stdout",
     "output_type": "stream",
     "text": [
      "{'account', 'told', 'adventure', 'story\"', 'real', 'people', 'of', 'and', 'events', 'or', 'for', 'entertainment.', 'an', 'imaginary', '\"an'}\n",
      "account => 1\n",
      "told => 1\n",
      "adventure => 1\n",
      "story\" => 1\n",
      "real => 1\n",
      "people => 1\n",
      "of => 1\n",
      "and => 1\n",
      "events => 1\n",
      "or => 3\n",
      "for => 1\n",
      "entertainment. => 1\n",
      "an => 3\n",
      "imaginary => 1\n",
      "\"an => 1\n"
     ]
    }
   ],
   "source": [
    "msg = input(\"enter the message\")\n",
    "words = set(msg.split())\n",
    "print(words)\n",
    "for w in words:\n",
    "    c = msg.count(w)\n",
    "    print(w,'=>',c)"
   ]
  },
  {
   "cell_type": "code",
   "execution_count": 15,
   "metadata": {},
   "outputs": [],
   "source": [
    "story = '''an account of imaginary or real people and events told for entertainment.\n",
    "\"an adventure story\"'''\n",
    "\n",
    "q = input(\"enter search term:\")"
   ]
  },
  {
   "cell_type": "code",
   "execution_count": 16,
   "metadata": {},
   "outputs": [
    {
     "ename": "AttributeError",
     "evalue": "'str' object has no attribute 'start'",
     "output_type": "error",
     "traceback": [
      "\u001b[1;31m---------------------------------------------------------------------------\u001b[0m",
      "\u001b[1;31mAttributeError\u001b[0m                            Traceback (most recent call last)",
      "\u001b[1;32mc:\\Users\\HP PC\\Python_JUN_2022\\strings_qus.ipynb Cell 14'\u001b[0m in \u001b[0;36m<cell line: 5>\u001b[1;34m()\u001b[0m\n\u001b[0;32m      <a href='vscode-notebook-cell:/c%3A/Users/HP%20PC/Python_JUN_2022/strings_qus.ipynb#ch0000013?line=2'>3</a>\u001b[0m start \u001b[39m=\u001b[39m \u001b[39m0\u001b[39m\n\u001b[0;32m      <a href='vscode-notebook-cell:/c%3A/Users/HP%20PC/Python_JUN_2022/strings_qus.ipynb#ch0000013?line=3'>4</a>\u001b[0m \u001b[39mwhile\u001b[39;00m \u001b[39mTrue\u001b[39;00m:\n\u001b[1;32m----> <a href='vscode-notebook-cell:/c%3A/Users/HP%20PC/Python_JUN_2022/strings_qus.ipynb#ch0000013?line=4'>5</a>\u001b[0m     idx \u001b[39m=\u001b[39m story\u001b[39m.\u001b[39mfind(q\u001b[39m.\u001b[39;49mstart)\n\u001b[0;32m      <a href='vscode-notebook-cell:/c%3A/Users/HP%20PC/Python_JUN_2022/strings_qus.ipynb#ch0000013?line=5'>6</a>\u001b[0m     \u001b[39mif\u001b[39;00m idx \u001b[39m==\u001b[39m \u001b[39m-\u001b[39m\u001b[39m1\u001b[39m:\n\u001b[0;32m      <a href='vscode-notebook-cell:/c%3A/Users/HP%20PC/Python_JUN_2022/strings_qus.ipynb#ch0000013?line=6'>7</a>\u001b[0m         \u001b[39mbreak\u001b[39;00m\n",
      "\u001b[1;31mAttributeError\u001b[0m: 'str' object has no attribute 'start'"
     ]
    }
   ],
   "source": [
    "story = '''an account of imaginary or real people and events told for entertainment an adventure story'''\n",
    "q = input(\"enter search term:\")\n",
    "start = 0\n",
    "while True:\n",
    "    idx = story.find(q.start)\n",
    "    if idx == -1:\n",
    "        break\n",
    "    print(f'found at position {idx}')\n",
    "    strt = idx + 1"
   ]
  },
  {
   "cell_type": "code",
   "execution_count": 19,
   "metadata": {},
   "outputs": [
    {
     "name": "stdout",
     "output_type": "stream",
     "text": [
      "found at position 0\n",
      "found at position 39\n",
      "found at position 73\n"
     ]
    }
   ],
   "source": [
    "story = '''an account of imaginary or real people and events told for entertainment an adventure story'''\n",
    "q = input(\"enter search term:\")\n",
    "start = 0\n",
    "while True:\n",
    "    idx = story.find(q,start)\n",
    "    if idx == -1:\n",
    "        break\n",
    "    print(f'found at position {idx}')\n",
    "    start = idx + 1"
   ]
  },
  {
   "cell_type": "code",
   "execution_count": 21,
   "metadata": {},
   "outputs": [
    {
     "name": "stdout",
     "output_type": "stream",
     "text": [
      "an found at position 0\n",
      "an found at position 39\n",
      "an found at position 73\n"
     ]
    }
   ],
   "source": [
    "story = '''an account of imaginary or real people and events told for entertainment an adventure story'''\n",
    "q = input(\"enter search term:\")\n",
    "start = 0\n",
    "while True:\n",
    "    idx = story.find(q,start)\n",
    "    if idx == -1:\n",
    "        break\n",
    "    print(f'{q} found at position {idx}')\n",
    "    start = idx + 1"
   ]
  },
  {
   "cell_type": "code",
   "execution_count": 28,
   "metadata": {},
   "outputs": [
    {
     "name": "stdout",
     "output_type": "stream",
     "text": [
      "1n 1cc45nt 4f 3 3m1g3n1ry 4r r21l 1n 3 4 5  p24pl2 1nd 2 2v2nts 1n  t4ld f4r 1 4 2nt2rt13nm2nt 1n 2 1dv2nt5r2 st4ry\n"
     ]
    }
   ],
   "source": [
    "story = '''an account of i imaginary or real an i o u  people and e events an  told for a o entertainment an e adventure story'''\n",
    "for v in \"aeiouAEIOU\":\n",
    "    if v == 'a' or v == 'A':\n",
    "        story = story.replace(v,'1')\n",
    "    if v == 'e' or v == 'E':\n",
    "        story = story.replace(v,'2')\n",
    "    if v == 'i' or v == 'I':\n",
    "        story = story.replace(v,'3')\n",
    "    if v == 'o' or v == 'O':\n",
    "        story = story.replace(v,'4')\n",
    "    if v == 'u' or v == 'U':\n",
    "        story = story.replace(v,'5')\n",
    "print(story)"
   ]
  },
  {
   "cell_type": "markdown",
   "metadata": {},
   "source": [
    "# methods of the list\n",
    "- addiation itmes in list\n",
    "apped()\n",
    "insert()\n",
    "extend()\n",
    "-subtraction or revoval of items\n",
    "pop()\n",
    "remove()\n",
    "clear()\n",
    "-utility fuctions\n",
    "sort()\n",
    "reverse()\n",
    "index()\n",
    "count()\n",
    "copy()\n",
    "-"
   ]
  },
  {
   "cell_type": "code",
   "execution_count": 3,
   "metadata": {},
   "outputs": [],
   "source": [
    "books=['JEET AAP KI',\n",
    "'ME SHIVAJI RAJE BHSLE BOLTOY',\n",
    "'AGNIPANKH',\n",
    "'THE MERCY',\n",
    "'HARIPTH',\n",
    "'DHYANESHARI',\n",
    "'BRIF HISTORY OF TIMES',\n",
    "'THE PRINCIPIYA',\n",
    "'CALCULUS']"
   ]
  },
  {
   "cell_type": "code",
   "execution_count": 6,
   "metadata": {},
   "outputs": [],
   "source": [
    "books.append(\"the car\")"
   ]
  },
  {
   "cell_type": "code",
   "execution_count": 7,
   "metadata": {},
   "outputs": [
    {
     "data": {
      "text/plain": [
       "['JEET AAP KI',\n",
       " 'ME SHIVAJI RAJE BHSLE BOLTOY',\n",
       " 'AGNIPANKH',\n",
       " 'THE MERCY',\n",
       " 'HARIPTH',\n",
       " 'DHYANESHARI',\n",
       " 'BRIF HISTORY OF TIMES',\n",
       " 'THE PRINCIPIYA',\n",
       " 'CALCULUS',\n",
       " 'the car']"
      ]
     },
     "execution_count": 7,
     "metadata": {},
     "output_type": "execute_result"
    }
   ],
   "source": [
    "books"
   ]
  },
  {
   "cell_type": "code",
   "execution_count": 8,
   "metadata": {},
   "outputs": [],
   "source": [
    "books.append('nuclear medicine')\n",
    "books.append(\"radiation bioogy\")"
   ]
  },
  {
   "cell_type": "code",
   "execution_count": 9,
   "metadata": {},
   "outputs": [
    {
     "data": {
      "text/plain": [
       "['JEET AAP KI',\n",
       " 'ME SHIVAJI RAJE BHSLE BOLTOY',\n",
       " 'AGNIPANKH',\n",
       " 'THE MERCY',\n",
       " 'HARIPTH',\n",
       " 'DHYANESHARI',\n",
       " 'BRIF HISTORY OF TIMES',\n",
       " 'THE PRINCIPIYA',\n",
       " 'CALCULUS',\n",
       " 'the car',\n",
       " 'nuclear medicine',\n",
       " 'radiation bioogy']"
      ]
     },
     "execution_count": 9,
     "metadata": {},
     "output_type": "execute_result"
    }
   ],
   "source": [
    "books"
   ]
  },
  {
   "cell_type": "code",
   "execution_count": 10,
   "metadata": {},
   "outputs": [],
   "source": [
    "books.append(['apple', 'banana', 'orange'])"
   ]
  },
  {
   "cell_type": "code",
   "execution_count": 11,
   "metadata": {},
   "outputs": [],
   "source": [
    "books.append('anatomy')\n",
    "books.append('physiology')"
   ]
  },
  {
   "cell_type": "code",
   "execution_count": 12,
   "metadata": {},
   "outputs": [],
   "source": [
    "books.insert(5, 'mitosis')"
   ]
  },
  {
   "cell_type": "code",
   "execution_count": 13,
   "metadata": {},
   "outputs": [
    {
     "data": {
      "text/plain": [
       "['JEET AAP KI',\n",
       " 'ME SHIVAJI RAJE BHSLE BOLTOY',\n",
       " 'AGNIPANKH',\n",
       " 'THE MERCY',\n",
       " 'HARIPTH',\n",
       " 'mitosis',\n",
       " 'DHYANESHARI',\n",
       " 'BRIF HISTORY OF TIMES',\n",
       " 'THE PRINCIPIYA',\n",
       " 'CALCULUS',\n",
       " 'the car',\n",
       " 'nuclear medicine',\n",
       " 'radiation bioogy',\n",
       " ['apple', 'banana', 'orange'],\n",
       " 'anatomy',\n",
       " 'physiology']"
      ]
     },
     "execution_count": 13,
     "metadata": {},
     "output_type": "execute_result"
    }
   ],
   "source": [
    "books"
   ]
  },
  {
   "cell_type": "code",
   "execution_count": 16,
   "metadata": {},
   "outputs": [
    {
     "name": "stdout",
     "output_type": "stream",
     "text": [
      "['JEET AAP KI', 'ME SHIVAJI RAJE BHSLE BOLTOY', 'AGNIPANKH', 'THE MERCY', 'HARIPTH', 'mitosis', 'DHYANESHARI', 'BRIF HISTORY OF TIMES', 'THE PRINCIPIYA', 'CALCULUS', 'the car', 'the alloy of law', 'nuclear medicine', 'radiation bioogy', ['apple', 'banana', 'orange'], 'anatomy', 'physiology']\n"
     ]
    }
   ],
   "source": [
    "books.insert(-5, 'the alloy of law')\n",
    "print(books)"
   ]
  },
  {
   "cell_type": "code",
   "execution_count": 17,
   "metadata": {},
   "outputs": [],
   "source": [
    "worst_books = ['two states', 'the white tighr', 'mathematicia']"
   ]
  },
  {
   "cell_type": "code",
   "execution_count": 18,
   "metadata": {},
   "outputs": [],
   "source": [
    "books.extend(worst_books)"
   ]
  },
  {
   "cell_type": "code",
   "execution_count": 19,
   "metadata": {},
   "outputs": [
    {
     "name": "stdout",
     "output_type": "stream",
     "text": [
      "['JEET AAP KI', 'ME SHIVAJI RAJE BHSLE BOLTOY', 'AGNIPANKH', 'THE MERCY', 'HARIPTH', 'mitosis', 'DHYANESHARI', 'BRIF HISTORY OF TIMES', 'THE PRINCIPIYA', 'CALCULUS', 'the car', 'the alloy of law', 'nuclear medicine', 'radiation bioogy', ['apple', 'banana', 'orange'], 'anatomy', 'physiology', 'two states', 'the white tighr', 'mathematicia', 1, 2, 6, 8, 7]\n"
     ]
    }
   ],
   "source": [
    "books.extend([1,2,6,8,7])\n",
    "print(books)"
   ]
  },
  {
   "cell_type": "code",
   "execution_count": 20,
   "metadata": {},
   "outputs": [
    {
     "data": {
      "text/plain": [
       "25"
      ]
     },
     "execution_count": 20,
     "metadata": {},
     "output_type": "execute_result"
    }
   ],
   "source": [
    "len(books)"
   ]
  },
  {
   "cell_type": "code",
   "execution_count": 21,
   "metadata": {},
   "outputs": [],
   "source": [
    "books.append('bebelia ka amir aadmi')"
   ]
  },
  {
   "cell_type": "code",
   "execution_count": 22,
   "metadata": {},
   "outputs": [],
   "source": [
    "rs=['the red', 'colors of God', 'raw','the empire','do not loos your money']"
   ]
  },
  {
   "cell_type": "code",
   "execution_count": 23,
   "metadata": {},
   "outputs": [],
   "source": [
    "books.extend(rs)"
   ]
  },
  {
   "cell_type": "code",
   "execution_count": 24,
   "metadata": {},
   "outputs": [
    {
     "name": "stdout",
     "output_type": "stream",
     "text": [
      "['JEET AAP KI', 'ME SHIVAJI RAJE BHSLE BOLTOY', 'AGNIPANKH', 'THE MERCY', 'HARIPTH', 'mitosis', 'DHYANESHARI', 'BRIF HISTORY OF TIMES', 'THE PRINCIPIYA', 'CALCULUS', 'the car', 'the alloy of law', 'nuclear medicine', 'radiation bioogy', ['apple', 'banana', 'orange'], 'anatomy', 'physiology', 'two states', 'the white tighr', 'mathematicia', 1, 2, 6, 8, 7, 'bebelia ka amir aadmi', 'the red', 'colors of God', 'raw', 'the empire', 'do not loos your money']\n"
     ]
    }
   ],
   "source": [
    "print(books)"
   ]
  },
  {
   "cell_type": "code",
   "execution_count": 25,
   "metadata": {},
   "outputs": [],
   "source": [
    "books.insert(10, 'time manegment')"
   ]
  },
  {
   "cell_type": "code",
   "execution_count": 26,
   "metadata": {},
   "outputs": [
    {
     "name": "stdout",
     "output_type": "stream",
     "text": [
      "['JEET AAP KI', 'ME SHIVAJI RAJE BHSLE BOLTOY', 'AGNIPANKH', 'THE MERCY', 'HARIPTH', 'mitosis', 'DHYANESHARI', 'BRIF HISTORY OF TIMES', 'THE PRINCIPIYA', 'CALCULUS', 'time manegment', 'the car', 'the alloy of law', 'nuclear medicine', 'radiation bioogy', ['apple', 'banana', 'orange'], 'anatomy', 'dosimetry', 'physiology', 'two states', 'the white tighr', 'mathematicia', 1, 2, 6, 8, 7, 'bebelia ka amir aadmi', 'the red', 'colors of God', 'raw', 'the empire', 'do not loos your money']\n"
     ]
    }
   ],
   "source": [
    "books.insert(-15, 'dosimetry')\n",
    "print(books)"
   ]
  },
  {
   "cell_type": "code",
   "execution_count": 27,
   "metadata": {},
   "outputs": [],
   "source": [
    "books.remove('the empire')"
   ]
  },
  {
   "cell_type": "code",
   "execution_count": 28,
   "metadata": {},
   "outputs": [
    {
     "name": "stdout",
     "output_type": "stream",
     "text": [
      "['JEET AAP KI', 'ME SHIVAJI RAJE BHSLE BOLTOY', 'AGNIPANKH', 'THE MERCY', 'HARIPTH', 'mitosis', 'DHYANESHARI', 'BRIF HISTORY OF TIMES', 'THE PRINCIPIYA', 'CALCULUS', 'time manegment', 'the car', 'the alloy of law', 'nuclear medicine', 'radiation bioogy', ['apple', 'banana', 'orange'], 'anatomy', 'dosimetry', 'physiology', 'two states', 'the white tighr', 'mathematicia', 1, 2, 6, 8, 7, 'bebelia ka amir aadmi', 'the red', 'colors of God', 'raw', 'do not loos your money']\n"
     ]
    }
   ],
   "source": [
    "print(books)"
   ]
  },
  {
   "cell_type": "code",
   "execution_count": 29,
   "metadata": {},
   "outputs": [],
   "source": [
    "remove_val = 'raw'\n",
    "if remove_val in books:\n",
    "    books.remove(remove_val)"
   ]
  },
  {
   "cell_type": "code",
   "execution_count": 31,
   "metadata": {},
   "outputs": [
    {
     "name": "stdout",
     "output_type": "stream",
     "text": [
      "raw is not in the list\n"
     ]
    }
   ],
   "source": [
    "remove_val = 'raw'\n",
    "if remove_val in books:\n",
    "    books.remove(remove_val)\n",
    "else:\n",
    "    print(remove_val + \" is not in the list\")"
   ]
  },
  {
   "cell_type": "code",
   "execution_count": 32,
   "metadata": {},
   "outputs": [],
   "source": [
    "remove_val = 'the car'\n",
    "if remove_val in books:\n",
    "    books.remove(remove_val)\n",
    "else:\n",
    "    print(remove_val + \" is not in the list\")"
   ]
  },
  {
   "cell_type": "code",
   "execution_count": 33,
   "metadata": {},
   "outputs": [
    {
     "name": "stdout",
     "output_type": "stream",
     "text": [
      "['JEET AAP KI', 'ME SHIVAJI RAJE BHSLE BOLTOY', 'AGNIPANKH', 'THE MERCY', 'HARIPTH', 'mitosis', 'DHYANESHARI', 'BRIF HISTORY OF TIMES', 'THE PRINCIPIYA', 'CALCULUS', 'time manegment', 'the alloy of law', 'nuclear medicine', 'radiation bioogy', ['apple', 'banana', 'orange'], 'anatomy', 'dosimetry', 'physiology', 'two states', 'the white tighr', 'mathematicia', 1, 2, 6, 8, 7, 'bebelia ka amir aadmi', 'the red', 'colors of God', 'do not loos your money']\n"
     ]
    }
   ],
   "source": [
    "print(books)"
   ]
  },
  {
   "cell_type": "code",
   "execution_count": 34,
   "metadata": {},
   "outputs": [
    {
     "data": {
      "text/plain": [
       "30"
      ]
     },
     "execution_count": 34,
     "metadata": {},
     "output_type": "execute_result"
    }
   ],
   "source": [
    "len(books)"
   ]
  },
  {
   "cell_type": "code",
   "execution_count": 35,
   "metadata": {},
   "outputs": [
    {
     "data": {
      "text/plain": [
       "'colors of God'"
      ]
     },
     "execution_count": 35,
     "metadata": {},
     "output_type": "execute_result"
    }
   ],
   "source": [
    "books.pop(-2)"
   ]
  },
  {
   "cell_type": "code",
   "execution_count": 36,
   "metadata": {},
   "outputs": [
    {
     "data": {
      "text/plain": [
       "'do not loos your money'"
      ]
     },
     "execution_count": 36,
     "metadata": {},
     "output_type": "execute_result"
    }
   ],
   "source": [
    "books.pop()"
   ]
  },
  {
   "cell_type": "code",
   "execution_count": 37,
   "metadata": {},
   "outputs": [
    {
     "data": {
      "text/plain": [
       "'nuclear medicine'"
      ]
     },
     "execution_count": 37,
     "metadata": {},
     "output_type": "execute_result"
    }
   ],
   "source": [
    "books.pop(12)"
   ]
  },
  {
   "cell_type": "code",
   "execution_count": 38,
   "metadata": {},
   "outputs": [
    {
     "data": {
      "text/plain": [
       "'radiation bioogy'"
      ]
     },
     "execution_count": 38,
     "metadata": {},
     "output_type": "execute_result"
    }
   ],
   "source": [
    "books.pop(12)"
   ]
  },
  {
   "cell_type": "code",
   "execution_count": 39,
   "metadata": {},
   "outputs": [],
   "source": [
    "books.clear()"
   ]
  },
  {
   "cell_type": "code",
   "execution_count": 40,
   "metadata": {},
   "outputs": [
    {
     "name": "stdout",
     "output_type": "stream",
     "text": [
      "[]\n"
     ]
    }
   ],
   "source": [
    "print(books)"
   ]
  },
  {
   "cell_type": "code",
   "execution_count": 41,
   "metadata": {},
   "outputs": [],
   "source": [
    "xyz=[['JEET AAP KI', 'ME SHIVAJI RAJE BHSLE BOLTOY', 'AGNIPANKH', 'THE MERCY', 'HARIPTH', 'mitosis', 'DHYANESHARI', 'BRIF HISTORY OF TIMES', 'THE PRINCIPIYA', 'CALCULUS', 'time manegment', 'the alloy of law', 'nuclear medicine', 'radiation bioogy', ['apple', 'banana', 'orange'], 'anatomy', 'dosimetry', 'physiology', 'two states', 'the white tighr', 'mathematicia', 1, 2, 6, 8, 7, 'bebelia ka amir aadmi', 'the red', 'colors of God', 'do not loos your money']]"
   ]
  },
  {
   "cell_type": "code",
   "execution_count": 42,
   "metadata": {},
   "outputs": [],
   "source": [
    "books.extend('xyz')"
   ]
  },
  {
   "cell_type": "code",
   "execution_count": 43,
   "metadata": {},
   "outputs": [
    {
     "name": "stdout",
     "output_type": "stream",
     "text": [
      "['x', 'y', 'z']\n"
     ]
    }
   ],
   "source": [
    "print(books)"
   ]
  },
  {
   "cell_type": "code",
   "execution_count": null,
   "metadata": {},
   "outputs": [],
   "source": []
  }
 ],
 "metadata": {
  "interpreter": {
   "hash": "c28b3cece02bc02c12fa5766a988d4443922620539affbc7b46a193a80d0f256"
  },
  "kernelspec": {
   "display_name": "Python 3.9.12 ('base')",
   "language": "python",
   "name": "python3"
  },
  "language_info": {
   "codemirror_mode": {
    "name": "ipython",
    "version": 3
   },
   "file_extension": ".py",
   "mimetype": "text/x-python",
   "name": "python",
   "nbconvert_exporter": "python",
   "pygments_lexer": "ipython3",
   "version": "3.9.12"
  },
  "orig_nbformat": 4
 },
 "nbformat": 4,
 "nbformat_minor": 2
}
