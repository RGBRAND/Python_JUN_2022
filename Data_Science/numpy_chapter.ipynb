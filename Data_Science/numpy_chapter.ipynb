{
 "cells": [
  {
   "cell_type": "code",
   "execution_count": 1,
   "metadata": {},
   "outputs": [],
   "source": [
    "import numpy as np"
   ]
  },
  {
   "cell_type": "code",
   "execution_count": 2,
   "metadata": {},
   "outputs": [
    {
     "name": "stdout",
     "output_type": "stream",
     "text": [
      "[1 2 3 4 5]\n"
     ]
    }
   ],
   "source": [
    "a = np.array([1,2,3,4,5])\n",
    "print(a)"
   ]
  },
  {
   "cell_type": "code",
   "execution_count": 3,
   "metadata": {},
   "outputs": [
    {
     "name": "stdout",
     "output_type": "stream",
     "text": [
      "15 3.0 1.4142135623730951\n"
     ]
    }
   ],
   "source": [
    "print(a.sum(), a.mean(), a.std())"
   ]
  },
  {
   "cell_type": "code",
   "execution_count": 4,
   "metadata": {},
   "outputs": [
    {
     "name": "stdout",
     "output_type": "stream",
     "text": [
      "[[1 2 3]\n",
      " [3 4 5]\n",
      " [5 6 7]]\n",
      "(3, 3)\n"
     ]
    }
   ],
   "source": [
    "b = [[1,2,3],[3,4,5],[5,6,7]]\n",
    "b = np.array(b)\n",
    "print(b)\n",
    "print(b.shape)"
   ]
  },
  {
   "cell_type": "code",
   "execution_count": 5,
   "metadata": {},
   "outputs": [
    {
     "name": "stdout",
     "output_type": "stream",
     "text": [
      "[[[1 2 3]\n",
      "  [4 5 6]\n",
      "  [7 8 9]]\n",
      "\n",
      " [[4 5 6]\n",
      "  [7 8 9]\n",
      "  [3 6 8]]]\n",
      "(2, 3, 3)\n"
     ]
    }
   ],
   "source": [
    "c = [[[1,2,3],[4,5,6],[7,8,9]],[[4,5,6],[7,8,9],[3,6,8]]]\n",
    "c = np.array(c)\n",
    "print(c)\n",
    "print(c.shape)"
   ]
  },
  {
   "cell_type": "code",
   "execution_count": 6,
   "metadata": {},
   "outputs": [
    {
     "name": "stdout",
     "output_type": "stream",
     "text": [
      "[[[1 2 3 7]\n",
      "  [4 5 6 8]\n",
      "  [7 8 9 3]\n",
      "  [1 2 3 4]]\n",
      "\n",
      " [[4 5 6 4]\n",
      "  [7 8 9 7]\n",
      "  [3 6 8 6]\n",
      "  [4 5 6 7]]]\n",
      "(2, 4, 4)\n"
     ]
    }
   ],
   "source": [
    "d = [[[1,2,3,7],[4,5,6,8],[7,8,9,3],[1,2,3,4]],[[4,5,6,4],[7,8,9,7],[3,6,8,6],[4,5,6,7]]]\n",
    "d = np.array(d)\n",
    "print(d)\n",
    "print(d.shape)"
   ]
  },
  {
   "cell_type": "code",
   "execution_count": 9,
   "metadata": {},
   "outputs": [
    {
     "name": "stdout",
     "output_type": "stream",
     "text": [
      "[[0. 0. 0.]\n",
      " [0. 0. 0.]\n",
      " [0. 0. 0.]\n",
      " [0. 0. 0.]]\n"
     ]
    }
   ],
   "source": [
    "z =np.zeros((4,3), dtype=int)\n",
    "print(z)"
   ]
  },
  {
   "cell_type": "code",
   "execution_count": null,
   "metadata": {},
   "outputs": [],
   "source": [
    "o = np.ones"
   ]
  },
  {
   "cell_type": "code",
   "execution_count": 12,
   "metadata": {},
   "outputs": [
    {
     "name": "stdout",
     "output_type": "stream",
     "text": [
      "[-10  -9  -8  -7  -6  -5  -4  -3  -2  -1   0   1   2   3   4   5   6   7\n",
      "   8   9]\n",
      "(20,)\n"
     ]
    }
   ],
   "source": [
    "t = np.arange(-10, 10)\n",
    "print(t)\n",
    "print(t.shape)"
   ]
  },
  {
   "cell_type": "code",
   "execution_count": 13,
   "metadata": {},
   "outputs": [
    {
     "name": "stdout",
     "output_type": "stream",
     "text": [
      "[-10.    -9.75  -9.5   -9.25  -9.    -8.75  -8.5   -8.25  -8.    -7.75\n",
      "  -7.5   -7.25  -7.    -6.75  -6.5   -6.25  -6.    -5.75  -5.5   -5.25\n",
      "  -5.    -4.75  -4.5   -4.25  -4.    -3.75  -3.5   -3.25  -3.    -2.75\n",
      "  -2.5   -2.25  -2.    -1.75  -1.5   -1.25  -1.    -0.75  -0.5   -0.25\n",
      "   0.     0.25   0.5    0.75   1.     1.25   1.5    1.75   2.     2.25\n",
      "   2.5    2.75   3.     3.25   3.5    3.75   4.     4.25   4.5    4.75\n",
      "   5.     5.25   5.5    5.75   6.     6.25   6.5    6.75   7.     7.25\n",
      "   7.5    7.75   8.     8.25   8.5    8.75   9.     9.25   9.5    9.75]\n",
      "(80,)\n"
     ]
    }
   ],
   "source": [
    "t = np.arange(-10, 10, 0.25)\n",
    "print(t)\n",
    "print(t.shape)"
   ]
  },
  {
   "cell_type": "code",
   "execution_count": 17,
   "metadata": {},
   "outputs": [
    {
     "name": "stdout",
     "output_type": "stream",
     "text": [
      "[-10.          -9.59183673  -9.18367347  -8.7755102   -8.36734694\n",
      "  -7.95918367  -7.55102041  -7.14285714  -6.73469388  -6.32653061\n",
      "  -5.91836735  -5.51020408  -5.10204082  -4.69387755  -4.28571429\n",
      "  -3.87755102  -3.46938776  -3.06122449  -2.65306122  -2.24489796\n",
      "  -1.83673469  -1.42857143  -1.02040816  -0.6122449   -0.20408163\n",
      "   0.20408163   0.6122449    1.02040816   1.42857143   1.83673469\n",
      "   2.24489796   2.65306122   3.06122449   3.46938776   3.87755102\n",
      "   4.28571429   4.69387755   5.10204082   5.51020408   5.91836735\n",
      "   6.32653061   6.73469388   7.14285714   7.55102041   7.95918367\n",
      "   8.36734694   8.7755102    9.18367347   9.59183673  10.        ]\n",
      "(50,)\n"
     ]
    }
   ],
   "source": [
    "t2 = np.linspace(-10,10,50)\n",
    "print(t2)\n",
    "print(t2.shape)"
   ]
  },
  {
   "cell_type": "code",
   "execution_count": 19,
   "metadata": {},
   "outputs": [
    {
     "name": "stdout",
     "output_type": "stream",
     "text": [
      "(30,)\n",
      "[1.00000000e-10 4.89390092e-10 2.39502662e-09 1.17210230e-08\n",
      " 5.73615251e-08 2.80721620e-07 1.37382380e-06 6.72335754e-06\n",
      " 3.29034456e-05 1.61026203e-04 7.88046282e-04 3.85662042e-03\n",
      " 1.88739182e-02 9.23670857e-02 4.52035366e-01 2.21221629e+00\n",
      " 1.08263673e+01 5.29831691e+01 2.59294380e+02 1.26896100e+03\n",
      " 6.21016942e+03 3.03919538e+04 1.48735211e+05 7.27895384e+05\n",
      " 3.56224789e+06 1.74332882e+07 8.53167852e+07 4.17531894e+08\n",
      " 2.04335972e+09 1.00000000e+10]\n"
     ]
    }
   ],
   "source": [
    "t3 = np.logspace(-10, 10, 30)\n",
    "print(t3.shape)\n",
    "print(t3)"
   ]
  },
  {
   "cell_type": "code",
   "execution_count": 20,
   "metadata": {},
   "outputs": [
    {
     "name": "stdout",
     "output_type": "stream",
     "text": [
      "(315,)\n"
     ]
    }
   ],
   "source": [
    "x = np.arange(-np.pi, np.pi,.02)\n",
    "print(x.shape)"
   ]
  },
  {
   "cell_type": "code",
   "execution_count": 24,
   "metadata": {},
   "outputs": [
    {
     "name": "stdout",
     "output_type": "stream",
     "text": [
      "[[[-3.14159265e+00 -3.12159265e+00 -3.10159265e+00 -3.08159265e+00\n",
      "   -3.06159265e+00 -3.04159265e+00 -3.02159265e+00 -3.00159265e+00\n",
      "   -2.98159265e+00]\n",
      "  [-2.96159265e+00 -2.94159265e+00 -2.92159265e+00 -2.90159265e+00\n",
      "   -2.88159265e+00 -2.86159265e+00 -2.84159265e+00 -2.82159265e+00\n",
      "   -2.80159265e+00]\n",
      "  [-2.78159265e+00 -2.76159265e+00 -2.74159265e+00 -2.72159265e+00\n",
      "   -2.70159265e+00 -2.68159265e+00 -2.66159265e+00 -2.64159265e+00\n",
      "   -2.62159265e+00]\n",
      "  [-2.60159265e+00 -2.58159265e+00 -2.56159265e+00 -2.54159265e+00\n",
      "   -2.52159265e+00 -2.50159265e+00 -2.48159265e+00 -2.46159265e+00\n",
      "   -2.44159265e+00]\n",
      "  [-2.42159265e+00 -2.40159265e+00 -2.38159265e+00 -2.36159265e+00\n",
      "   -2.34159265e+00 -2.32159265e+00 -2.30159265e+00 -2.28159265e+00\n",
      "   -2.26159265e+00]\n",
      "  [-2.24159265e+00 -2.22159265e+00 -2.20159265e+00 -2.18159265e+00\n",
      "   -2.16159265e+00 -2.14159265e+00 -2.12159265e+00 -2.10159265e+00\n",
      "   -2.08159265e+00]\n",
      "  [-2.06159265e+00 -2.04159265e+00 -2.02159265e+00 -2.00159265e+00\n",
      "   -1.98159265e+00 -1.96159265e+00 -1.94159265e+00 -1.92159265e+00\n",
      "   -1.90159265e+00]]\n",
      "\n",
      " [[-1.88159265e+00 -1.86159265e+00 -1.84159265e+00 -1.82159265e+00\n",
      "   -1.80159265e+00 -1.78159265e+00 -1.76159265e+00 -1.74159265e+00\n",
      "   -1.72159265e+00]\n",
      "  [-1.70159265e+00 -1.68159265e+00 -1.66159265e+00 -1.64159265e+00\n",
      "   -1.62159265e+00 -1.60159265e+00 -1.58159265e+00 -1.56159265e+00\n",
      "   -1.54159265e+00]\n",
      "  [-1.52159265e+00 -1.50159265e+00 -1.48159265e+00 -1.46159265e+00\n",
      "   -1.44159265e+00 -1.42159265e+00 -1.40159265e+00 -1.38159265e+00\n",
      "   -1.36159265e+00]\n",
      "  [-1.34159265e+00 -1.32159265e+00 -1.30159265e+00 -1.28159265e+00\n",
      "   -1.26159265e+00 -1.24159265e+00 -1.22159265e+00 -1.20159265e+00\n",
      "   -1.18159265e+00]\n",
      "  [-1.16159265e+00 -1.14159265e+00 -1.12159265e+00 -1.10159265e+00\n",
      "   -1.08159265e+00 -1.06159265e+00 -1.04159265e+00 -1.02159265e+00\n",
      "   -1.00159265e+00]\n",
      "  [-9.81592654e-01 -9.61592654e-01 -9.41592654e-01 -9.21592654e-01\n",
      "   -9.01592654e-01 -8.81592654e-01 -8.61592654e-01 -8.41592654e-01\n",
      "   -8.21592654e-01]\n",
      "  [-8.01592654e-01 -7.81592654e-01 -7.61592654e-01 -7.41592654e-01\n",
      "   -7.21592654e-01 -7.01592654e-01 -6.81592654e-01 -6.61592654e-01\n",
      "   -6.41592654e-01]]\n",
      "\n",
      " [[-6.21592654e-01 -6.01592654e-01 -5.81592654e-01 -5.61592654e-01\n",
      "   -5.41592654e-01 -5.21592654e-01 -5.01592654e-01 -4.81592654e-01\n",
      "   -4.61592654e-01]\n",
      "  [-4.41592654e-01 -4.21592654e-01 -4.01592654e-01 -3.81592654e-01\n",
      "   -3.61592654e-01 -3.41592654e-01 -3.21592654e-01 -3.01592654e-01\n",
      "   -2.81592654e-01]\n",
      "  [-2.61592654e-01 -2.41592654e-01 -2.21592654e-01 -2.01592654e-01\n",
      "   -1.81592654e-01 -1.61592654e-01 -1.41592654e-01 -1.21592654e-01\n",
      "   -1.01592654e-01]\n",
      "  [-8.15926536e-02 -6.15926536e-02 -4.15926536e-02 -2.15926536e-02\n",
      "   -1.59265359e-03  1.84073464e-02  3.84073464e-02  5.84073464e-02\n",
      "    7.84073464e-02]\n",
      "  [ 9.84073464e-02  1.18407346e-01  1.38407346e-01  1.58407346e-01\n",
      "    1.78407346e-01  1.98407346e-01  2.18407346e-01  2.38407346e-01\n",
      "    2.58407346e-01]\n",
      "  [ 2.78407346e-01  2.98407346e-01  3.18407346e-01  3.38407346e-01\n",
      "    3.58407346e-01  3.78407346e-01  3.98407346e-01  4.18407346e-01\n",
      "    4.38407346e-01]\n",
      "  [ 4.58407346e-01  4.78407346e-01  4.98407346e-01  5.18407346e-01\n",
      "    5.38407346e-01  5.58407346e-01  5.78407346e-01  5.98407346e-01\n",
      "    6.18407346e-01]]\n",
      "\n",
      " [[ 6.38407346e-01  6.58407346e-01  6.78407346e-01  6.98407346e-01\n",
      "    7.18407346e-01  7.38407346e-01  7.58407346e-01  7.78407346e-01\n",
      "    7.98407346e-01]\n",
      "  [ 8.18407346e-01  8.38407346e-01  8.58407346e-01  8.78407346e-01\n",
      "    8.98407346e-01  9.18407346e-01  9.38407346e-01  9.58407346e-01\n",
      "    9.78407346e-01]\n",
      "  [ 9.98407346e-01  1.01840735e+00  1.03840735e+00  1.05840735e+00\n",
      "    1.07840735e+00  1.09840735e+00  1.11840735e+00  1.13840735e+00\n",
      "    1.15840735e+00]\n",
      "  [ 1.17840735e+00  1.19840735e+00  1.21840735e+00  1.23840735e+00\n",
      "    1.25840735e+00  1.27840735e+00  1.29840735e+00  1.31840735e+00\n",
      "    1.33840735e+00]\n",
      "  [ 1.35840735e+00  1.37840735e+00  1.39840735e+00  1.41840735e+00\n",
      "    1.43840735e+00  1.45840735e+00  1.47840735e+00  1.49840735e+00\n",
      "    1.51840735e+00]\n",
      "  [ 1.53840735e+00  1.55840735e+00  1.57840735e+00  1.59840735e+00\n",
      "    1.61840735e+00  1.63840735e+00  1.65840735e+00  1.67840735e+00\n",
      "    1.69840735e+00]\n",
      "  [ 1.71840735e+00  1.73840735e+00  1.75840735e+00  1.77840735e+00\n",
      "    1.79840735e+00  1.81840735e+00  1.83840735e+00  1.85840735e+00\n",
      "    1.87840735e+00]]\n",
      "\n",
      " [[ 1.89840735e+00  1.91840735e+00  1.93840735e+00  1.95840735e+00\n",
      "    1.97840735e+00  1.99840735e+00  2.01840735e+00  2.03840735e+00\n",
      "    2.05840735e+00]\n",
      "  [ 2.07840735e+00  2.09840735e+00  2.11840735e+00  2.13840735e+00\n",
      "    2.15840735e+00  2.17840735e+00  2.19840735e+00  2.21840735e+00\n",
      "    2.23840735e+00]\n",
      "  [ 2.25840735e+00  2.27840735e+00  2.29840735e+00  2.31840735e+00\n",
      "    2.33840735e+00  2.35840735e+00  2.37840735e+00  2.39840735e+00\n",
      "    2.41840735e+00]\n",
      "  [ 2.43840735e+00  2.45840735e+00  2.47840735e+00  2.49840735e+00\n",
      "    2.51840735e+00  2.53840735e+00  2.55840735e+00  2.57840735e+00\n",
      "    2.59840735e+00]\n",
      "  [ 2.61840735e+00  2.63840735e+00  2.65840735e+00  2.67840735e+00\n",
      "    2.69840735e+00  2.71840735e+00  2.73840735e+00  2.75840735e+00\n",
      "    2.77840735e+00]\n",
      "  [ 2.79840735e+00  2.81840735e+00  2.83840735e+00  2.85840735e+00\n",
      "    2.87840735e+00  2.89840735e+00  2.91840735e+00  2.93840735e+00\n",
      "    2.95840735e+00]\n",
      "  [ 2.97840735e+00  2.99840735e+00  3.01840735e+00  3.03840735e+00\n",
      "    3.05840735e+00  3.07840735e+00  3.09840735e+00  3.11840735e+00\n",
      "    3.13840735e+00]]]\n"
     ]
    }
   ],
   "source": [
    "x3 = x.reshape((5,7,9))\n",
    "print(x3)"
   ]
  },
  {
   "cell_type": "code",
   "execution_count": 23,
   "metadata": {},
   "outputs": [
    {
     "data": {
      "text/plain": [
       "(5, 7, 9)"
      ]
     },
     "execution_count": 23,
     "metadata": {},
     "output_type": "execute_result"
    }
   ],
   "source": [
    "x3.shape"
   ]
  },
  {
   "cell_type": "code",
   "execution_count": 25,
   "metadata": {},
   "outputs": [
    {
     "name": "stdout",
     "output_type": "stream",
     "text": [
      "[[0.17693648 0.54526005 0.94824531 0.16830003 0.64417424 0.21075024]\n",
      " [0.85665724 0.71499233 0.09772327 0.71680122 0.62435354 0.65642722]\n",
      " [0.11180261 0.9647907  0.58086453 0.72519289 0.85307204 0.47959136]\n",
      " [0.89349221 0.36272634 0.94179236 0.76253225 0.48873876 0.21066651]]\n"
     ]
    }
   ],
   "source": [
    "r1= np.random.random((4,6))\n",
    "print(r1)"
   ]
  },
  {
   "cell_type": "code",
   "execution_count": 26,
   "metadata": {},
   "outputs": [
    {
     "name": "stdout",
     "output_type": "stream",
     "text": [
      "[[ 3 73 67 39 10]\n",
      " [31 88 47 19 16]\n",
      " [58 60 30 24  1]\n",
      " [72  2 22 14 18]\n",
      " [80 59 32  5 41]]\n"
     ]
    }
   ],
   "source": [
    "r2 = np.random.randint(0,100,(5,5))\n",
    "print(r2)"
   ]
  },
  {
   "cell_type": "code",
   "execution_count": 28,
   "metadata": {},
   "outputs": [
    {
     "name": "stdout",
     "output_type": "stream",
     "text": [
      "[[ 2  4 27 25]\n",
      " [54 13 29 33]\n",
      " [49 66  4 72]\n",
      " [58  6 30  2]]\n"
     ]
    }
   ],
   "source": [
    "r22 = np.random.randint(2,88,(4,4))\n",
    "print(r22)"
   ]
  },
  {
   "cell_type": "code",
   "execution_count": 29,
   "metadata": {},
   "outputs": [],
   "source": [
    "a = np.random.randint(1,10,(3,3))\n",
    "b = np.random.randint(1,10,(3,3))"
   ]
  },
  {
   "cell_type": "code",
   "execution_count": 30,
   "metadata": {},
   "outputs": [
    {
     "name": "stdout",
     "output_type": "stream",
     "text": [
      "[[11  6 14]\n",
      " [10 13  5]\n",
      " [11  4  7]]\n"
     ]
    }
   ],
   "source": [
    "print(a+b)"
   ]
  },
  {
   "cell_type": "code",
   "execution_count": 31,
   "metadata": {},
   "outputs": [
    {
     "name": "stdout",
     "output_type": "stream",
     "text": [
      "[[ 5  2  2]\n",
      " [-8 -1 -1]\n",
      " [ 5  0 -5]]\n"
     ]
    }
   ],
   "source": [
    "print(a-b)"
   ]
  },
  {
   "cell_type": "code",
   "execution_count": 32,
   "metadata": {},
   "outputs": [
    {
     "name": "stdout",
     "output_type": "stream",
     "text": [
      "[[2.66666667 2.         1.33333333]\n",
      " [0.11111111 0.85714286 0.66666667]\n",
      " [2.66666667 1.         0.16666667]]\n"
     ]
    }
   ],
   "source": [
    "print(a/b)"
   ]
  },
  {
   "cell_type": "code",
   "execution_count": 33,
   "metadata": {},
   "outputs": [
    {
     "data": {
      "text/plain": [
       "array([[  8, -24,   4],\n",
       "       [  4,  15, -47],\n",
       "       [ 10, -45,  10]])"
      ]
     },
     "execution_count": 33,
     "metadata": {},
     "output_type": "execute_result"
    }
   ],
   "source": [
    "np.cross(a,b)"
   ]
  },
  {
   "cell_type": "code",
   "execution_count": 34,
   "metadata": {},
   "outputs": [
    {
     "data": {
      "text/plain": [
       "array([[ 84,  60, 108],\n",
       "       [ 63,  48,  36],\n",
       "       [ 45,  32,  60]])"
      ]
     },
     "execution_count": 34,
     "metadata": {},
     "output_type": "execute_result"
    }
   ],
   "source": [
    "np.dot(a,b)"
   ]
  },
  {
   "cell_type": "code",
   "execution_count": 35,
   "metadata": {},
   "outputs": [
    {
     "data": {
      "text/plain": [
       "array([    8,    32,   256,   256,  1536,  3072, 24576, 49152, 49152])"
      ]
     },
     "execution_count": 35,
     "metadata": {},
     "output_type": "execute_result"
    }
   ],
   "source": [
    "np.cumprod(a)"
   ]
  },
  {
   "cell_type": "code",
   "execution_count": 36,
   "metadata": {},
   "outputs": [
    {
     "data": {
      "text/plain": [
       "4.444444444444445"
      ]
     },
     "execution_count": 36,
     "metadata": {},
     "output_type": "execute_result"
    }
   ],
   "source": [
    "a.mean()    #Mean of all elements "
   ]
  },
  {
   "cell_type": "code",
   "execution_count": 37,
   "metadata": {},
   "outputs": [
    {
     "data": {
      "text/plain": [
       "array([5.66666667, 4.        , 3.66666667])"
      ]
     },
     "execution_count": 37,
     "metadata": {},
     "output_type": "execute_result"
    }
   ],
   "source": [
    "a.mean(axis=0)  #Mean of all columns"
   ]
  },
  {
   "cell_type": "code",
   "execution_count": 38,
   "metadata": {},
   "outputs": [
    {
     "data": {
      "text/plain": [
       "array([6.66666667, 3.        , 3.66666667])"
      ]
     },
     "execution_count": 38,
     "metadata": {},
     "output_type": "execute_result"
    }
   ],
   "source": [
    "a.mean(axis=1)      #Mean of all rows"
   ]
  },
  {
   "cell_type": "code",
   "execution_count": 39,
   "metadata": {},
   "outputs": [
    {
     "data": {
      "text/plain": [
       "4.0"
      ]
     },
     "execution_count": 39,
     "metadata": {},
     "output_type": "execute_result"
    }
   ],
   "source": [
    "np.median(a)"
   ]
  },
  {
   "cell_type": "code",
   "execution_count": 40,
   "metadata": {},
   "outputs": [
    {
     "name": "stdout",
     "output_type": "stream",
     "text": [
      "[8. 4. 2.]\n",
      "[8. 2. 2.]\n"
     ]
    }
   ],
   "source": [
    "print(np.median(a, axis=0)) # mean along the columns\n",
    "print(np.median(a, axis=1)) # mean along the rows"
   ]
  },
  {
   "cell_type": "code",
   "execution_count": 43,
   "metadata": {},
   "outputs": [
    {
     "data": {
      "text/plain": [
       "array([[ 0.98935825, -0.7568025 ,  0.98935825],\n",
       "       [ 0.84147098, -0.2794155 ,  0.90929743],\n",
       "       [ 0.98935825,  0.90929743,  0.84147098]])"
      ]
     },
     "execution_count": 43,
     "metadata": {},
     "output_type": "execute_result"
    }
   ],
   "source": [
    "np.sin(a)"
   ]
  },
  {
   "cell_type": "code",
   "execution_count": 44,
   "metadata": {},
   "outputs": [
    {
     "data": {
      "text/plain": [
       "array([[-0.14550003, -0.65364362, -0.14550003],\n",
       "       [ 0.54030231,  0.96017029, -0.41614684],\n",
       "       [-0.14550003, -0.41614684,  0.54030231]])"
      ]
     },
     "execution_count": 44,
     "metadata": {},
     "output_type": "execute_result"
    }
   ],
   "source": [
    "np.cos(a)"
   ]
  },
  {
   "cell_type": "code",
   "execution_count": 45,
   "metadata": {},
   "outputs": [
    {
     "data": {
      "text/plain": [
       "array([[-0.14254654, -2.18503986, -0.29100619],\n",
       "       [-0.45231566,  0.87144798, -0.14254654],\n",
       "       [-0.14254654, -2.18503986, -0.29100619]])"
      ]
     },
     "execution_count": 45,
     "metadata": {},
     "output_type": "execute_result"
    }
   ],
   "source": [
    "np.tan(b)"
   ]
  },
  {
   "cell_type": "code",
   "execution_count": 46,
   "metadata": {},
   "outputs": [],
   "source": [
    "t = np.arange(0, 2*np.pi, 0.1)\n",
    "x = np.sin(t)\n",
    "y = np.cos(t)"
   ]
  },
  {
   "cell_type": "code",
   "execution_count": 47,
   "metadata": {},
   "outputs": [],
   "source": [
    "import matplotlib.pyplot as plt"
   ]
  },
  {
   "cell_type": "code",
   "execution_count": 48,
   "metadata": {},
   "outputs": [
    {
     "data": {
      "image/png": "[encoded data removed]",
      "text/plain": [
       "<Figure size 432x288 with 1 Axes>"
      ]
     },
     "metadata": {
      "needs_background": "light"
     },
     "output_type": "display_data"
    }
   ],
   "source": [
    "plt.plot(t,x, label= 'sin', color='red')\n",
    "plt.plot(t,y, label = 'cos', color ='blue')\n",
    "plt.legend()\n",
    "plt.show()"
   ]
  },
  {
   "cell_type": "code",
   "execution_count": 49,
   "metadata": {},
   "outputs": [
    {
     "data": {
      "image/png": "[encoded data removed]",
      "text/plain": [
       "<Figure size 432x288 with 1 Axes>"
      ]
     },
     "metadata": {
      "needs_background": "light"
     },
     "output_type": "display_data"
    }
   ],
   "source": [
    "plt.plot(t,x, label= 'sin', color='red')\n",
    "plt.plot(t,y, label = 'cos', color ='blue')\n",
    "plt.text(5, .90, \"Graph\")\n",
    "plt.legend()\n",
    "plt.show()"
   ]
  },
  {
   "cell_type": "code",
   "execution_count": 50,
   "metadata": {},
   "outputs": [
    {
     "data": {
      "image/png": "[encoded data removed]",
      "text/plain": [
       "<Figure size 432x288 with 1 Axes>"
      ]
     },
     "metadata": {
      "needs_background": "light"
     },
     "output_type": "display_data"
    }
   ],
   "source": [
    "plt.plot(t,x, label= 'sin', color='red')\n",
    "plt.plot(t,y, label = 'cos', color ='blue')\n",
    "plt.text(4, .90, \"y=0.25cm\")\n",
    "plt.text(4, 0.8, \"x=1cm\")\n",
    "plt.legend()\n",
    "plt.show()"
   ]
  },
  {
   "cell_type": "code",
   "execution_count": null,
   "metadata": {},
   "outputs": [],
   "source": []
  }
 ],
 "metadata": {
  "kernelspec": {
   "display_name": "Python 3.9.12 ('base')",
   "language": "python",
   "name": "python3"
  },
  "language_info": {
   "codemirror_mode": {
    "name": "ipython",
    "version": 3
   },
   "file_extension": ".py",
   "mimetype": "text/x-python",
   "name": "python",
   "nbconvert_exporter": "python",
   "pygments_lexer": "ipython3",
   "version": "3.9.12"
  },
  "orig_nbformat": 4,
  "vscode": {
   "interpreter": {
    "hash": "c28b3cece02bc02c12fa5766a988d4443922620539affbc7b46a193a80d0f256"
   }
  }
 },
 "nbformat": 4,
 "nbformat_minor": 2
}
